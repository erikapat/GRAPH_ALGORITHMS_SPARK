{
 "cells": [
  {
   "cell_type": "markdown",
   "metadata": {},
   "source": [
    "## **References about Node2Vect**"
   ]
  },
  {
   "cell_type": "markdown",
   "metadata": {},
   "source": [
    "- https://www.kaggle.com/ferdzso/knowledge-graph-analysis-with-node2vec\n",
    "- https://snap.stanford.edu/node2vec/\n",
    "- https://pypi.org/project/node2vec-fugue/\n",
    "- https://datascience.stackexchange.com/questions/66744/scalable-way-to-train-graph-embeddings\n",
    "- https://github.com/eliorc/node2vec/blob/master/example.py\n",
    "- https://github.com/eliorc/Medium/blob/master/Nod2Vec-FIFA17-Example.ipynb\n",
    "- https://github.com/eliorc/Medium/blob/master/Nod2Vec-FIFA17-Example.ipynb"
   ]
  },
  {
   "cell_type": "code",
   "execution_count": null,
   "metadata": {},
   "outputs": [],
   "source": []
  }
 ],
 "metadata": {
  "kernelspec": {
   "display_name": "Python 3",
   "language": "python",
   "name": "python3"
  },
  "language_info": {
   "codemirror_mode": {
    "name": "ipython",
    "version": 3
   },
   "file_extension": ".py",
   "mimetype": "text/x-python",
   "name": "python",
   "nbconvert_exporter": "python",
   "pygments_lexer": "ipython3",
   "version": "3.7.4"
  }
 },
 "nbformat": 4,
 "nbformat_minor": 4
}
