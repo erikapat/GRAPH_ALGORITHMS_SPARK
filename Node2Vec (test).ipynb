{
 "cells": [
  {
   "cell_type": "markdown",
   "metadata": {},
   "source": [
    "### Node2vec"
   ]
  },
  {
   "cell_type": "code",
   "execution_count": 1,
   "metadata": {},
   "outputs": [],
   "source": [
    "import os\n",
    "#os.environ['PYSPARK_SUBMIT_ARGS'] = '--packages graphframes:graphframes:0.6.0-spark2.3-s_2.11 pyspark-shell'\n",
    "os.environ['PYSPARK_SUBMIT_ARGS'] = '--packages graphframes:graphframes:0.7.0-spark2.3-s_2.11 pyspark-shell'\n",
    "#os.environ['PYSPARK_SUBMIT_ARGS'] = '--packages graphframes:graphframes:0.8.0-spark3.0-s_2.12 pyspark-shell'\n",
    "\n",
    "import pyspark\n",
    "from pyspark.sql import *\n",
    "from pyspark.sql.functions import udf\n",
    "import matplotlib.pyplot as plt"
   ]
  },
  {
   "cell_type": "code",
   "execution_count": 2,
   "metadata": {},
   "outputs": [],
   "source": [
    "import pyspark\n",
    "from pyspark.sql import SparkSession\n",
    "from pyspark.sql import HiveContext\n",
    "from pyspark.sql import SQLContext\n",
    "import pyspark.sql.functions as sf\n",
    "from pyspark.sql.types import *\n",
    "from pyspark.storagelevel import StorageLevel"
   ]
  },
  {
   "cell_type": "code",
   "execution_count": 3,
   "metadata": {},
   "outputs": [],
   "source": [
    "sc = pyspark.SparkContext(\"local[*]\")\n",
    "spark = SparkSession.builder.appName('notebook').getOrCreate()"
   ]
  },
  {
   "cell_type": "code",
   "execution_count": 4,
   "metadata": {},
   "outputs": [
    {
     "data": {
      "text/html": [
       "\n",
       "            <div>\n",
       "                <p><b>SparkSession - in-memory</b></p>\n",
       "                \n",
       "        <div>\n",
       "            <p><b>SparkContext</b></p>\n",
       "\n",
       "            <p><a href=\"http://192.168.0.13:4045\">Spark UI</a></p>\n",
       "\n",
       "            <dl>\n",
       "              <dt>Version</dt>\n",
       "                <dd><code>v2.4.4</code></dd>\n",
       "              <dt>Master</dt>\n",
       "                <dd><code>local[*]</code></dd>\n",
       "              <dt>AppName</dt>\n",
       "                <dd><code>pyspark-shell</code></dd>\n",
       "            </dl>\n",
       "        </div>\n",
       "        \n",
       "            </div>\n",
       "        "
      ],
      "text/plain": [
       "<pyspark.sql.session.SparkSession at 0x114297190>"
      ]
     },
     "execution_count": 4,
     "metadata": {},
     "output_type": "execute_result"
    }
   ],
   "source": [
    "spark"
   ]
  },
  {
   "cell_type": "code",
   "execution_count": 5,
   "metadata": {},
   "outputs": [],
   "source": [
    "import sys\n",
    "import os\n",
    "import pyspark\n",
    "from pyspark.sql import *\n",
    "from graphframes import *\n",
    "from functools import reduce\n",
    "import hashlib\n",
    "import pandas as pnd"
   ]
  },
  {
   "cell_type": "markdown",
   "metadata": {},
   "source": [
    "### Load Data"
   ]
  },
  {
   "cell_type": "code",
   "execution_count": 6,
   "metadata": {},
   "outputs": [],
   "source": [
    "dataset_f = 'data/FullData_fifa_2017.csv'\n",
    "data = pnd.read_csv(dataset_f , \n",
    "        usecols=['Name', 'Club', 'Club_Position', 'Rating','Nationality'])"
   ]
  },
  {
   "cell_type": "code",
   "execution_count": 7,
   "metadata": {},
   "outputs": [
    {
     "data": {
      "text/html": [
       "<div>\n",
       "<style scoped>\n",
       "    .dataframe tbody tr th:only-of-type {\n",
       "        vertical-align: middle;\n",
       "    }\n",
       "\n",
       "    .dataframe tbody tr th {\n",
       "        vertical-align: top;\n",
       "    }\n",
       "\n",
       "    .dataframe thead th {\n",
       "        text-align: right;\n",
       "    }\n",
       "</style>\n",
       "<table border=\"1\" class=\"dataframe\">\n",
       "  <thead>\n",
       "    <tr style=\"text-align: right;\">\n",
       "      <th></th>\n",
       "      <th>Name</th>\n",
       "      <th>Nationality</th>\n",
       "      <th>Club</th>\n",
       "      <th>Club_Position</th>\n",
       "      <th>Rating</th>\n",
       "    </tr>\n",
       "  </thead>\n",
       "  <tbody>\n",
       "    <tr>\n",
       "      <th>0</th>\n",
       "      <td>Cristiano Ronaldo</td>\n",
       "      <td>Portugal</td>\n",
       "      <td>Real Madrid</td>\n",
       "      <td>LW</td>\n",
       "      <td>94</td>\n",
       "    </tr>\n",
       "    <tr>\n",
       "      <th>1</th>\n",
       "      <td>Lionel Messi</td>\n",
       "      <td>Argentina</td>\n",
       "      <td>FC Barcelona</td>\n",
       "      <td>RW</td>\n",
       "      <td>93</td>\n",
       "    </tr>\n",
       "    <tr>\n",
       "      <th>2</th>\n",
       "      <td>Neymar</td>\n",
       "      <td>Brazil</td>\n",
       "      <td>FC Barcelona</td>\n",
       "      <td>LW</td>\n",
       "      <td>92</td>\n",
       "    </tr>\n",
       "    <tr>\n",
       "      <th>3</th>\n",
       "      <td>Luis Suárez</td>\n",
       "      <td>Uruguay</td>\n",
       "      <td>FC Barcelona</td>\n",
       "      <td>ST</td>\n",
       "      <td>92</td>\n",
       "    </tr>\n",
       "    <tr>\n",
       "      <th>4</th>\n",
       "      <td>Manuel Neuer</td>\n",
       "      <td>Germany</td>\n",
       "      <td>FC Bayern</td>\n",
       "      <td>GK</td>\n",
       "      <td>92</td>\n",
       "    </tr>\n",
       "  </tbody>\n",
       "</table>\n",
       "</div>"
      ],
      "text/plain": [
       "                Name Nationality          Club Club_Position  Rating\n",
       "0  Cristiano Ronaldo    Portugal   Real Madrid            LW      94\n",
       "1       Lionel Messi   Argentina  FC Barcelona            RW      93\n",
       "2             Neymar      Brazil  FC Barcelona            LW      92\n",
       "3        Luis Suárez     Uruguay  FC Barcelona            ST      92\n",
       "4       Manuel Neuer     Germany     FC Bayern            GK      92"
      ]
     },
     "execution_count": 7,
     "metadata": {},
     "output_type": "execute_result"
    }
   ],
   "source": [
    "data.head()"
   ]
  },
  {
   "cell_type": "code",
   "execution_count": 8,
   "metadata": {},
   "outputs": [],
   "source": [
    "# Lowercase columns for convenience\n",
    "data.columns = list(map(str.lower, data.columns))\n",
    "\n",
    "# Lowercase position\n",
    "data['club_position'] = data['club_position'].str.lower()\n",
    "\n",
    "# Ignore substitutes and reserves \n",
    "data = data[(data['club_position'] != 'sub') & (data['club_position'] != 'res')]"
   ]
  },
  {
   "cell_type": "code",
   "execution_count": 9,
   "metadata": {},
   "outputs": [],
   "source": [
    "# Fix lcm rcm -> cm cm\n",
    "fix_positions = {'rcm' : 'cm', 'lcm': 'cm', 'rcb': 'cb', 'lcb': 'cb', 'ldm': 'cdm', 'rdm': 'cdm'}\n",
    "data['club_position'] = data['club_position'].apply(lambda x: fix_positions.get(x, x))"
   ]
  },
  {
   "cell_type": "code",
   "execution_count": 10,
   "metadata": {},
   "outputs": [],
   "source": [
    "data = data.applymap(str)"
   ]
  },
  {
   "cell_type": "code",
   "execution_count": 11,
   "metadata": {},
   "outputs": [],
   "source": [
    "df_sample_data = spark.createDataFrame(data)"
   ]
  },
  {
   "cell_type": "code",
   "execution_count": 12,
   "metadata": {},
   "outputs": [
    {
     "name": "stdout",
     "output_type": "stream",
     "text": [
      "+------------------+-----------+---------------+-------------+------+\n",
      "|              name|nationality|           club|club_position|rating|\n",
      "+------------------+-----------+---------------+-------------+------+\n",
      "| Cristiano Ronaldo|   Portugal|    Real Madrid|           lw|    94|\n",
      "|      Lionel Messi|  Argentina|   FC Barcelona|           rw|    93|\n",
      "|            Neymar|     Brazil|   FC Barcelona|           lw|    92|\n",
      "|       Luis Suárez|    Uruguay|   FC Barcelona|           st|    92|\n",
      "|      Manuel Neuer|    Germany|      FC Bayern|           gk|    92|\n",
      "|            De Gea|      Spain| Manchester Utd|           gk|    90|\n",
      "|Robert Lewandowski|     Poland|      FC Bayern|           st|    90|\n",
      "|       Gareth Bale|      Wales|    Real Madrid|           rw|    90|\n",
      "|Zlatan Ibrahimović|     Sweden| Manchester Utd|           st|    90|\n",
      "|  Thibaut Courtois|    Belgium|        Chelsea|           gk|    89|\n",
      "|       Eden Hazard|    Belgium|        Chelsea|           lw|    89|\n",
      "|       Luka Modrić|    Croatia|    Real Madrid|           cm|    89|\n",
      "|        Mesut Özil|    Germany|        Arsenal|          cam|    89|\n",
      "|   Gonzalo Higuaín|  Argentina|       Juventus|           st|    89|\n",
      "|      Thiago Silva|     Brazil|            PSG|           cb|    89|\n",
      "|      Sergio Ramos|      Spain|    Real Madrid|           cb|    89|\n",
      "|     Sergio Agüero|  Argentina|Manchester City|           st|    89|\n",
      "|        Paul Pogba|     France| Manchester Utd|           cm|    88|\n",
      "| Antoine Griezmann|     France|Atlético Madrid|           rs|    88|\n",
      "|   Kevin De Bruyne|    Belgium|Manchester City|           cm|    88|\n",
      "+------------------+-----------+---------------+-------------+------+\n",
      "only showing top 20 rows\n",
      "\n"
     ]
    }
   ],
   "source": [
    "df_sample_data.show()"
   ]
  },
  {
   "cell_type": "code",
   "execution_count": 13,
   "metadata": {},
   "outputs": [],
   "source": [
    "#erase\n",
    "sys.path.insert(0, '../gremlibXL')\n",
    "#----- gremlibXL ----\n",
    "from graph_preproc import *"
   ]
  },
  {
   "cell_type": "code",
   "execution_count": 14,
   "metadata": {},
   "outputs": [],
   "source": [
    "edge_descriptions = [EdgeDescriptor(src='name',dst='club',directed=False),\n",
    "                     EdgeDescriptor(src='name',dst='club_position',directed=False),\n",
    "                    ]"
   ]
  },
  {
   "cell_type": "code",
   "execution_count": 15,
   "metadata": {},
   "outputs": [
    {
     "data": {
      "text/plain": [
       "[<graph_preproc.EdgeDescriptor at 0x116a1c090>,\n",
       " <graph_preproc.EdgeDescriptor at 0x116a1c0d0>]"
      ]
     },
     "execution_count": 15,
     "metadata": {},
     "output_type": "execute_result"
    }
   ],
   "source": [
    "edge_descriptions"
   ]
  },
  {
   "cell_type": "code",
   "execution_count": 16,
   "metadata": {},
   "outputs": [],
   "source": [
    "tab2grab_transformer = Tab2graph(edge_descriptions=edge_descriptions, N_PART_G=6, USE_WEIGHTS=True)"
   ]
  },
  {
   "cell_type": "code",
   "execution_count": 17,
   "metadata": {},
   "outputs": [
    {
     "data": {
      "text/plain": [
       "<graph_preproc.Tab2graph at 0x116a1c210>"
      ]
     },
     "execution_count": 17,
     "metadata": {},
     "output_type": "execute_result"
    }
   ],
   "source": [
    "tab2grab_transformer"
   ]
  },
  {
   "cell_type": "markdown",
   "metadata": {},
   "source": [
    "### PARTITIONS OF THE DATA"
   ]
  },
  {
   "cell_type": "code",
   "execution_count": 18,
   "metadata": {},
   "outputs": [],
   "source": [
    "sys.path.insert(0, '../')\n",
    "from part_tab_data import *"
   ]
  },
  {
   "cell_type": "code",
   "execution_count": 19,
   "metadata": {},
   "outputs": [],
   "source": [
    "ls_part_tab = partitions_from_field_values(i_df = df_sample_data,\n",
    "                                           field_name = 'nationality')\n",
    "\n",
    "ls_part_tab = [el.rdd.toDF(el.schema).persist() for el in ls_part_tab]"
   ]
  },
  {
   "cell_type": "code",
   "execution_count": 20,
   "metadata": {},
   "outputs": [
    {
     "name": "stdout",
     "output_type": "stream",
     "text": [
      "+-------+----------------+-----------+---------+-------------+-----------------+\n",
      "|summary|            name|nationality|     club|club_position|           rating|\n",
      "+-------+----------------+-----------+---------+-------------+-----------------+\n",
      "|  count|             109|        109|      109|          109|              109|\n",
      "|   mean|            null|       null|     null|         null|69.69724770642202|\n",
      "| stddev|            null|       null|     null|         null|6.010029560468318|\n",
      "|    min|Adessoye Oyewole|     Russia|Aarhus GF|          cam|               55|\n",
      "|    max|   Yuriy Lodygin|     Russia|    Zenit|           st|               81|\n",
      "+-------+----------------+-----------+---------+-------------+-----------------+\n",
      "\n"
     ]
    }
   ],
   "source": [
    "ls_part_tab[0].describe().show()"
   ]
  },
  {
   "cell_type": "code",
   "execution_count": 21,
   "metadata": {},
   "outputs": [
    {
     "name": "stdout",
     "output_type": "stream",
     "text": [
      "+-------+------------+-----------+---------+-------------+-----------------+\n",
      "|summary|        name|nationality|     club|club_position|           rating|\n",
      "+-------+------------+-----------+---------+-------------+-----------------+\n",
      "|  count|          34|         34|       34|           34|               34|\n",
      "|   mean|        null|       null|     null|         null|             71.5|\n",
      "| stddev|        null|       null|     null|         null|3.871026799810156|\n",
      "|    min|Bruno Valdez|   Paraguay| Al Nassr|          cam|               63|\n",
      "|    max|Victor Ayala|   Paraguay|Wanderers|           st|               78|\n",
      "+-------+------------+-----------+---------+-------------+-----------------+\n",
      "\n"
     ]
    }
   ],
   "source": [
    "ls_part_tab[1].describe().show()"
   ]
  },
  {
   "cell_type": "code",
   "execution_count": 22,
   "metadata": {},
   "outputs": [],
   "source": [
    "l_sg = graphs_from_list(list_subg_records = ls_part_tab,tab2grab_transformer = tab2grab_transformer)"
   ]
  },
  {
   "cell_type": "code",
   "execution_count": 23,
   "metadata": {},
   "outputs": [
    {
     "name": "stdout",
     "output_type": "stream",
     "text": [
      "+----------------------+------------------+------+\n",
      "|src                   |dst               |weight|\n",
      "+----------------------+------------------+------+\n",
      "|Nabil Ghilas          |Gaziantepspor     |1     |\n",
      "|Riyad Mahrez          |Leicester City    |1     |\n",
      "|Djamel Eddine Benlamri|Al Shabab         |1     |\n",
      "|Florian Makhedjouf    |Red Star FC       |1     |\n",
      "|Mehdi Mostefa         |SC Bastia         |1     |\n",
      "|Féthi Harek           |Nîmes Olympique   |1     |\n",
      "|Karim Ziani           |US Orléans        |1     |\n",
      "|Red Star FC           |Florian Makhedjouf|1     |\n",
      "|SC Bastia             |Mehdi Mostefa     |1     |\n",
      "|Real Betis            |Aïssa Mandi       |1     |\n",
      "+----------------------+------------------+------+\n",
      "only showing top 10 rows\n",
      "\n"
     ]
    }
   ],
   "source": [
    "l_sg[20].edges.show(10,False)"
   ]
  },
  {
   "cell_type": "markdown",
   "metadata": {},
   "source": [
    "#### Sin particionar"
   ]
  },
  {
   "cell_type": "code",
   "execution_count": 24,
   "metadata": {},
   "outputs": [],
   "source": [
    "sample_graph = tab2grab_transformer.compute_gf(df_sample_data)"
   ]
  },
  {
   "cell_type": "code",
   "execution_count": 25,
   "metadata": {},
   "outputs": [
    {
     "data": {
      "text/plain": [
       "GraphFrame(v:[id: string], e:[src: string, dst: string ... 1 more field])"
      ]
     },
     "execution_count": 25,
     "metadata": {},
     "output_type": "execute_result"
    }
   ],
   "source": [
    "sample_graph"
   ]
  },
  {
   "cell_type": "markdown",
   "metadata": {},
   "source": [
    "#### Detección de comunidades con LPA:"
   ]
  },
  {
   "cell_type": "code",
   "execution_count": 26,
   "metadata": {},
   "outputs": [],
   "source": [
    "sys.path.insert(0, '../')\n",
    "from graph_functions import *"
   ]
  },
  {
   "cell_type": "code",
   "execution_count": 27,
   "metadata": {},
   "outputs": [],
   "source": [
    "[g_coarse, g_labeled] = graph_of_communities(i_g = sample_graph)"
   ]
  },
  {
   "cell_type": "code",
   "execution_count": 28,
   "metadata": {},
   "outputs": [
    {
     "data": {
      "text/plain": [
       "882"
      ]
     },
     "execution_count": 28,
     "metadata": {},
     "output_type": "execute_result"
    }
   ],
   "source": [
    "g_coarse.vertices.count()"
   ]
  },
  {
   "cell_type": "code",
   "execution_count": 29,
   "metadata": {},
   "outputs": [
    {
     "data": {
      "text/plain": [
       "GraphFrame(v:[id: bigint], e:[src: bigint, dst: bigint ... 1 more field])"
      ]
     },
     "execution_count": 29,
     "metadata": {},
     "output_type": "execute_result"
    }
   ],
   "source": [
    "g_coarse"
   ]
  },
  {
   "cell_type": "code",
   "execution_count": 30,
   "metadata": {},
   "outputs": [
    {
     "data": {
      "text/plain": [
       "GraphFrame(v:[id: string, label: bigint], e:[src: string, dst: string ... 3 more fields])"
      ]
     },
     "execution_count": 30,
     "metadata": {},
     "output_type": "execute_result"
    }
   ],
   "source": [
    "g_labeled"
   ]
  },
  {
   "cell_type": "code",
   "execution_count": 31,
   "metadata": {},
   "outputs": [],
   "source": [
    "node_comm_labels = g_labeled.vertices\n",
    "\n",
    "player_with_comm = df_sample_data.join(node_comm_labels, df_sample_data.name == node_comm_labels.id, 'inner')"
   ]
  },
  {
   "cell_type": "code",
   "execution_count": 32,
   "metadata": {},
   "outputs": [
    {
     "name": "stdout",
     "output_type": "stream",
     "text": [
      "+------------------+-------------------+----------------+-------------+------+------------------+-----------+\n",
      "|name              |nationality        |club            |club_position|rating|id                |label      |\n",
      "+------------------+-------------------+----------------+-------------+------+------------------+-----------+\n",
      "|Josip Posavec     |Croatia            |Palermo         |gk           |66    |Josip Posavec     |21         |\n",
      "|Mato Jajalo       |Bosnia Herzegovina |Palermo         |cm           |73    |Mato Jajalo       |21         |\n",
      "|Haitam Aleesami   |Norway             |Palermo         |lb           |72    |Haitam Aleesami   |21         |\n",
      "|Roland Sallai     |Hungary            |Palermo         |rw           |64    |Roland Sallai     |21         |\n",
      "|Andrea Rispoli    |Italy              |Palermo         |rb           |70    |Andrea Rispoli    |21         |\n",
      "|Bruno Henrique    |Brazil             |Palermo         |cm           |72    |Bruno Henrique    |21         |\n",
      "|Edoardo Goldaniga |Italy              |Palermo         |cb           |72    |Edoardo Goldaniga |21         |\n",
      "|Norbert Balogh    |Hungary            |Palermo         |lw           |63    |Norbert Balogh    |21         |\n",
      "|Siniša Anđelković |Slovenia           |Palermo         |cb           |75    |Siniša Anđelković |21         |\n",
      "|Ilja Nestorovski  |FYR Macedonia      |Palermo         |st           |73    |Ilja Nestorovski  |21         |\n",
      "|Ivaylo Chochev    |Bulgaria           |Palermo         |cm           |72    |Ivaylo Chochev    |21         |\n",
      "|Shunsuke Kikuchi  |Japan              |Shonan Bellmare |cm           |65    |Shunsuke Kikuchi  |8589934626 |\n",
      "|Yuta Narawa       |Japan              |Shonan Bellmare |rm           |61    |Yuta Narawa       |8589934626 |\n",
      "|Dinei             |Brazil             |Shonan Bellmare |st           |70    |Dinei             |8589934626 |\n",
      "|Toshiki Ishikawa  |Japan              |Shonan Bellmare |cm           |62    |Toshiki Ishikawa  |8589934626 |\n",
      "|André Bahia       |Brazil             |Shonan Bellmare |cb           |66    |André Bahia       |8589934626 |\n",
      "|Seiya Fujita      |Japan              |Shonan Bellmare |lm           |65    |Seiya Fujita      |8589934626 |\n",
      "|Yohei Otake       |Japan              |Shonan Bellmare |lf           |61    |Yohei Otake       |8589934626 |\n",
      "|Tsuyoshi Shimamura|Japan              |Shonan Bellmare |cb           |60    |Tsuyoshi Shimamura|8589934626 |\n",
      "|Tomohiko Murayama |Japan              |Shonan Bellmare |gk           |64    |Tomohiko Murayama |8589934626 |\n",
      "|Keisuke Tsuboi    |Japan              |Shonan Bellmare |cb           |62    |Keisuke Tsuboi    |8589934626 |\n",
      "|Kaoru Takayama    |Japan              |Shonan Bellmare |rf           |67    |Kaoru Takayama    |8589934626 |\n",
      "|Matthew Dolan     |England            |Yeovil Town     |cm           |60    |Matthew Dolan     |8589934631 |\n",
      "|Kevin Dawson      |Republic of Ireland|Yeovil Town     |cm           |61    |Kevin Dawson      |8589934631 |\n",
      "|Artur Krysiak     |Poland             |Yeovil Town     |gk           |61    |Artur Krysiak     |8589934631 |\n",
      "|Liam Shephard     |Wales              |Yeovil Town     |rb           |60    |Liam Shephard     |8589934631 |\n",
      "|Nathan Smith      |England            |Port Vale       |cb           |58    |Nathan Smith      |8589934631 |\n",
      "|Otis Khan         |England            |Yeovil Town     |rw           |59    |Otis Khan         |8589934631 |\n",
      "|Nathan Smith      |Jamaica            |Yeovil Town     |cb           |64    |Nathan Smith      |8589934631 |\n",
      "|Alex Lawless      |Wales              |Yeovil Town     |cdm          |59    |Alex Lawless      |8589934631 |\n",
      "|Ryan Dickson      |England            |Yeovil Town     |lb           |65    |Ryan Dickson      |8589934631 |\n",
      "|Tom Eaves         |England            |Yeovil Town     |st           |63    |Tom Eaves         |8589934631 |\n",
      "|François Zoko     |Ivory Coast        |Yeovil Town     |lw           |65    |François Zoko     |8589934631 |\n",
      "|Alex Lacey        |England            |Yeovil Town     |cb           |57    |Alex Lacey        |8589934631 |\n",
      "|Lorenzo Pasciuti  |Italy              |Carpi           |rm           |72    |Lorenzo Pasciuti  |17179869186|\n",
      "|Raffaele Bianco   |Italy              |Carpi           |cm           |70    |Raffaele Bianco   |17179869186|\n",
      "|Fabrizio Poli     |Italy              |Carpi           |cb           |69    |Fabrizio Poli     |17179869186|\n",
      "|Riccardo Gagliolo |Italy              |Carpi           |rb           |71    |Riccardo Gagliolo |17179869186|\n",
      "|Simone Colombi    |Italy              |Carpi           |gk           |70    |Simone Colombi    |17179869186|\n",
      "|Simone Romagnoli  |Italy              |Carpi           |cb           |71    |Simone Romagnoli  |17179869186|\n",
      "|Maodo Malick Mbaye|Senegal            |Carpi           |cm           |62    |Maodo Malick Mbaye|17179869186|\n",
      "|Antonio Di Gaudio |Italy              |Carpi           |lm           |73    |Antonio Di Gaudio |17179869186|\n",
      "|Kevin Lasagna     |Italy              |Carpi           |ls           |72    |Kevin Lasagna     |17179869186|\n",
      "|Jerry Mbakogu     |Nigeria            |Carpi           |rs           |73    |Jerry Mbakogu     |17179869186|\n",
      "|Gaetano Letizia   |Italy              |Carpi           |lb           |73    |Gaetano Letizia   |17179869186|\n",
      "|Daniel Halfar     |Germany            |Kaiserslautern  |cam          |71    |Daniel Halfar     |17179869199|\n",
      "|Julian Pollersbeck|Germany            |Kaiserslautern  |gk           |68    |Julian Pollersbeck|17179869199|\n",
      "|Marcel Gaus       |Germany            |Kaiserslautern  |lm           |64    |Marcel Gaus       |17179869199|\n",
      "|Phillipp Mwene    |Austria            |Kaiserslautern  |rb           |67    |Phillipp Mwene    |17179869199|\n",
      "|Naser Aliji       |Albania            |Kaiserslautern  |lb           |69    |Naser Aliji       |17179869199|\n",
      "|Tim Heubach       |Germany            |Kaiserslautern  |cb           |69    |Tim Heubach       |17179869199|\n",
      "|Jacques Zoua      |Cameroon           |Kaiserslautern  |st           |69    |Jacques Zoua      |17179869199|\n",
      "|Patrick Ziegler   |Germany            |Kaiserslautern  |cdm          |69    |Patrick Ziegler   |17179869199|\n",
      "|Sebastian Kerk    |Germany            |Kaiserslautern  |rm           |70    |Sebastian Kerk    |17179869199|\n",
      "|Ewerton           |Brazil             |Kaiserslautern  |cb           |73    |Ewerton           |17179869199|\n",
      "|Christoph Moritz  |Germany            |Kaiserslautern  |cdm          |73    |Christoph Moritz  |17179869199|\n",
      "|Yohei Toyoda      |Japan              |Sagan Tosu      |ls           |68    |Yohei Toyoda      |17179869209|\n",
      "|Yutaka Yoshida    |Japan              |Sagan Tosu      |lb           |64    |Yutaka Yoshida    |17179869209|\n",
      "|Daichi Kamada     |Japan              |Sagan Tosu      |cam          |67    |Daichi Kamada     |17179869209|\n",
      "|Hiroyuki Taniguchi|Japan              |Sagan Tosu      |cb           |68    |Hiroyuki Taniguchi|17179869209|\n",
      "|Víctor Ibarbo     |Colombia           |Sagan Tosu      |rs           |75    |Víctor Ibarbo     |17179869209|\n",
      "|Shuichi Gonda     |Japan              |Sagan Tosu      |gk           |70    |Shuichi Gonda     |17179869209|\n",
      "|Kim Min Hyeok     |Korea Republic     |Sagan Tosu      |cb           |65    |Kim Min Hyeok     |17179869209|\n",
      "|Masato Fujita     |Japan              |Sagan Tosu      |rb           |65    |Masato Fujita     |17179869209|\n",
      "|Akito Fukuta      |Japan              |Sagan Tosu      |cm           |62    |Akito Fukuta      |17179869209|\n",
      "|Riki Harakawa     |Japan              |Sagan Tosu      |cm           |64    |Riki Harakawa     |17179869209|\n",
      "|Kim Min Hyeok     |Korea Republic     |GwangJu FC      |cam          |63    |Kim Min Hyeok     |17179869209|\n",
      "|Yoshiki Takahashi |Japan              |Sagan Tosu      |cdm          |65    |Yoshiki Takahashi |17179869209|\n",
      "|Ryan Sanusi       |Belgium            |Sparta R'dam    |cm           |68    |Ryan Sanusi       |17179869212|\n",
      "|Mart Dijkstra     |Netherlands        |Sparta R'dam    |cdm          |66    |Mart Dijkstra     |17179869212|\n",
      "|Sherel Floranus   |Netherlands        |Sparta R'dam    |lb           |63    |Sherel Floranus   |17179869212|\n",
      "|Roy Kortsmit      |Netherlands        |Sparta R'dam    |gk           |68    |Roy Kortsmit      |17179869212|\n",
      "|Rick van Drongelen|Netherlands        |Sparta R'dam    |cb           |67    |Rick van Drongelen|17179869212|\n",
      "|Jerson Cabral     |Cape Verde         |Sparta R'dam    |rw           |70    |Jerson Cabral     |17179869212|\n",
      "|Craig Goodwin     |Australia          |Sparta R'dam    |lw           |66    |Craig Goodwin     |17179869212|\n",
      "|Martin Pušić      |Austria            |Sparta R'dam    |st           |70    |Martin Pušić      |17179869212|\n",
      "|Denzel Dumfries   |Netherlands        |Sparta R'dam    |rb           |68    |Denzel Dumfries   |17179869212|\n",
      "|Paco van Moorsel  |Netherlands        |Sparta R'dam    |cm           |66    |Paco van Moorsel  |17179869212|\n",
      "|Michel Breuer     |Netherlands        |Sparta R'dam    |cb           |67    |Michel Breuer     |17179869212|\n",
      "|Danijel Milićević |Bosnia Herzegovina |KAA Gent        |rf           |76    |Danijel Milićević |17179869216|\n",
      "|Federico Higuaín  |Argentina          |Columbus Crew SC|rf           |75    |Federico Higuaín  |17179869216|\n",
      "|Ahmad Benali      |Libya              |Pescara         |rf           |70    |Ahmad Benali      |17179869216|\n",
      "|Tomoya Ugajin     |Japan              |Urawa Diamonds  |rf           |68    |Tomoya Ugajin     |17179869216|\n",
      "|Naoki Ishihara    |Japan              |Vegalta Sendai  |rf           |62    |Naoki Ishihara    |17179869216|\n",
      "|Albian Ajeti      |Switzerland        |FC St. Gallen   |rf           |67    |Albian Ajeti      |17179869216|\n",
      "|Mohamed Salah     |Egypt              |Roma            |rf           |82    |Mohamed Salah     |17179869216|\n",
      "|Borja Valero      |Spain              |Fiorentina      |rf           |83    |Borja Valero      |17179869216|\n",
      "|Gerard Badía      |Spain              |Piast Gliwice   |rf           |70    |Gerard Badía      |17179869216|\n",
      "|Louis Schaub      |Austria            |SK Rapid Wien   |rf           |73    |Louis Schaub      |17179869216|\n",
      "|Billy Waters      |England            |Cheltenham Town |ls           |59    |Billy Waters      |25769803784|\n",
      "|William Boyle     |Scotland           |Cheltenham Town |cb           |57    |William Boyle     |25769803784|\n",
      "|Jack Barthram     |England            |Cheltenham Town |rwb          |59    |Jack Barthram     |25769803784|\n",
      "|Scott Brown       |England            |Accrington      |cdm          |59    |Scott Brown       |25769803784|\n",
      "|Liam Davis        |England            |Cheltenham Town |lwb          |59    |Liam Davis        |25769803784|\n",
      "|Emmanuel Onariase |England            |Cheltenham Town |cb           |58    |Emmanuel Onariase |25769803784|\n",
      "|Kyle Wootton      |England            |Cheltenham Town |rs           |57    |Kyle Wootton      |25769803784|\n",
      "|Carl Winchester   |Northern Ireland   |Cheltenham Town |cam          |65    |Carl Winchester   |25769803784|\n",
      "|Scott Brown       |England            |Cheltenham Town |gk           |66    |Scott Brown       |25769803784|\n",
      "|Harry Pell        |England            |Cheltenham Town |cm           |60    |Harry Pell        |25769803784|\n",
      "|Tin Plavotic      |Croatia            |Cheltenham Town |cb           |56    |Tin Plavotic      |25769803784|\n",
      "+------------------+-------------------+----------------+-------------+------+------------------+-----------+\n",
      "only showing top 100 rows\n",
      "\n"
     ]
    }
   ],
   "source": [
    "player_with_comm.sort('label').show(100,False)"
   ]
  },
  {
   "cell_type": "markdown",
   "metadata": {},
   "source": [
    "**Inspección de algunos equipos y posiciones:**"
   ]
  },
  {
   "cell_type": "code",
   "execution_count": 33,
   "metadata": {},
   "outputs": [],
   "source": [
    "sys.path.insert(0, '../')\n",
    "from custom_vis import *"
   ]
  },
  {
   "cell_type": "code",
   "execution_count": 34,
   "metadata": {},
   "outputs": [],
   "source": [
    "pnd_clubs_per_comm = plot_values_per_group(i_df = player_with_comm, \n",
    "                                           value_field = 'club', \n",
    "                                           group_field = 'label')\n",
    "\n",
    "pnd_clubs_per_comm.columns = ['Clubs / community', 'Count']"
   ]
  },
  {
   "cell_type": "code",
   "execution_count": 35,
   "metadata": {},
   "outputs": [
    {
     "data": {
      "text/html": [
       "<div>\n",
       "<style scoped>\n",
       "    .dataframe tbody tr th:only-of-type {\n",
       "        vertical-align: middle;\n",
       "    }\n",
       "\n",
       "    .dataframe tbody tr th {\n",
       "        vertical-align: top;\n",
       "    }\n",
       "\n",
       "    .dataframe thead th {\n",
       "        text-align: right;\n",
       "    }\n",
       "</style>\n",
       "<table border=\"1\" class=\"dataframe\">\n",
       "  <thead>\n",
       "    <tr style=\"text-align: right;\">\n",
       "      <th></th>\n",
       "      <th>Clubs / community</th>\n",
       "      <th>Count</th>\n",
       "    </tr>\n",
       "  </thead>\n",
       "  <tbody>\n",
       "    <tr>\n",
       "      <th>4</th>\n",
       "      <td>1</td>\n",
       "      <td>442</td>\n",
       "    </tr>\n",
       "    <tr>\n",
       "      <th>12</th>\n",
       "      <td>2</td>\n",
       "      <td>17</td>\n",
       "    </tr>\n",
       "    <tr>\n",
       "      <th>9</th>\n",
       "      <td>3</td>\n",
       "      <td>4</td>\n",
       "    </tr>\n",
       "    <tr>\n",
       "      <th>15</th>\n",
       "      <td>4</td>\n",
       "      <td>1</td>\n",
       "    </tr>\n",
       "    <tr>\n",
       "      <th>6</th>\n",
       "      <td>10</td>\n",
       "      <td>1</td>\n",
       "    </tr>\n",
       "    <tr>\n",
       "      <th>11</th>\n",
       "      <td>11</td>\n",
       "      <td>1</td>\n",
       "    </tr>\n",
       "    <tr>\n",
       "      <th>18</th>\n",
       "      <td>14</td>\n",
       "      <td>2</td>\n",
       "    </tr>\n",
       "    <tr>\n",
       "      <th>0</th>\n",
       "      <td>39</td>\n",
       "      <td>1</td>\n",
       "    </tr>\n",
       "    <tr>\n",
       "      <th>8</th>\n",
       "      <td>61</td>\n",
       "      <td>1</td>\n",
       "    </tr>\n",
       "    <tr>\n",
       "      <th>10</th>\n",
       "      <td>101</td>\n",
       "      <td>1</td>\n",
       "    </tr>\n",
       "    <tr>\n",
       "      <th>2</th>\n",
       "      <td>107</td>\n",
       "      <td>1</td>\n",
       "    </tr>\n",
       "    <tr>\n",
       "      <th>16</th>\n",
       "      <td>118</td>\n",
       "      <td>1</td>\n",
       "    </tr>\n",
       "    <tr>\n",
       "      <th>13</th>\n",
       "      <td>134</td>\n",
       "      <td>1</td>\n",
       "    </tr>\n",
       "    <tr>\n",
       "      <th>3</th>\n",
       "      <td>146</td>\n",
       "      <td>1</td>\n",
       "    </tr>\n",
       "    <tr>\n",
       "      <th>17</th>\n",
       "      <td>298</td>\n",
       "      <td>1</td>\n",
       "    </tr>\n",
       "    <tr>\n",
       "      <th>14</th>\n",
       "      <td>359</td>\n",
       "      <td>1</td>\n",
       "    </tr>\n",
       "    <tr>\n",
       "      <th>7</th>\n",
       "      <td>364</td>\n",
       "      <td>1</td>\n",
       "    </tr>\n",
       "    <tr>\n",
       "      <th>1</th>\n",
       "      <td>369</td>\n",
       "      <td>1</td>\n",
       "    </tr>\n",
       "    <tr>\n",
       "      <th>19</th>\n",
       "      <td>394</td>\n",
       "      <td>1</td>\n",
       "    </tr>\n",
       "    <tr>\n",
       "      <th>5</th>\n",
       "      <td>461</td>\n",
       "      <td>1</td>\n",
       "    </tr>\n",
       "  </tbody>\n",
       "</table>\n",
       "</div>"
      ],
      "text/plain": [
       "    Clubs / community  Count\n",
       "4                   1    442\n",
       "12                  2     17\n",
       "9                   3      4\n",
       "15                  4      1\n",
       "6                  10      1\n",
       "11                 11      1\n",
       "18                 14      2\n",
       "0                  39      1\n",
       "8                  61      1\n",
       "10                101      1\n",
       "2                 107      1\n",
       "16                118      1\n",
       "13                134      1\n",
       "3                 146      1\n",
       "17                298      1\n",
       "14                359      1\n",
       "7                 364      1\n",
       "1                 369      1\n",
       "19                394      1\n",
       "5                 461      1"
      ]
     },
     "execution_count": 35,
     "metadata": {},
     "output_type": "execute_result"
    }
   ],
   "source": [
    "pnd_clubs_per_comm"
   ]
  },
  {
   "cell_type": "code",
   "execution_count": 36,
   "metadata": {},
   "outputs": [
    {
     "data": {
      "image/png": "[encoded data removed]",
      "text/plain": [
       "<Figure size 432x288 with 1 Axes>"
      ]
     },
     "metadata": {
      "needs_background": "light"
     },
     "output_type": "display_data"
    }
   ],
   "source": [
    "plt.plot(pnd_clubs_per_comm['Clubs / community'], pnd_clubs_per_comm['Count'],'*-')\n",
    "plt.xlabel('Clubs / community')\n",
    "plt.ylabel('Abs. frequency')\n",
    "\n",
    "plt.xscale('log')\n",
    "plt.yscale('log')"
   ]
  },
  {
   "cell_type": "code",
   "execution_count": 37,
   "metadata": {},
   "outputs": [],
   "source": [
    "pnd_posit_per_comm = plot_values_per_group(i_df = player_with_comm, \n",
    "                                           value_field = 'club_position', \n",
    "                                           group_field = 'label')\n",
    "\n",
    "pnd_posit_per_comm.columns = ['Positions / community', 'Count']"
   ]
  },
  {
   "cell_type": "code",
   "execution_count": 38,
   "metadata": {},
   "outputs": [
    {
     "data": {
      "image/png": "[encoded data removed]",
      "text/plain": [
       "<Figure size 432x288 with 1 Axes>"
      ]
     },
     "metadata": {
      "needs_background": "light"
     },
     "output_type": "display_data"
    }
   ],
   "source": [
    "plt.plot(pnd_posit_per_comm['Positions / community'], pnd_posit_per_comm['Count'],'*-')\n",
    "plt.xlabel('Positions / community')\n",
    "plt.ylabel('Abs. frequency')\n",
    "\n",
    "plt.xscale('log')\n",
    "plt.yscale('log')"
   ]
  },
  {
   "cell_type": "code",
   "execution_count": 39,
   "metadata": {},
   "outputs": [
    {
     "ename": "SyntaxError",
     "evalue": "import * only allowed at module level (common_logic_rwg.py, line 32)",
     "output_type": "error",
     "traceback": [
      "Traceback \u001b[0;36m(most recent call last)\u001b[0m:\n",
      "  File \u001b[1;32m\"/Users/erikapat/anaconda3/lib/python3.7/site-packages/IPython/core/interactiveshell.py\"\u001b[0m, line \u001b[1;32m3331\u001b[0m, in \u001b[1;35mrun_code\u001b[0m\n    exec(code_obj, self.user_global_ns, self.user_ns)\n",
      "\u001b[0;36m  File \u001b[0;32m\"<ipython-input-39-1c5d71c89085>\"\u001b[0;36m, line \u001b[0;32m5\u001b[0;36m, in \u001b[0;35m<module>\u001b[0;36m\u001b[0m\n\u001b[0;31m    from common_logic_rwg import *\u001b[0m\n",
      "\u001b[0;36m  File \u001b[0;32m\"../gremlibXL/common_logic_rwg.py\"\u001b[0;36m, line \u001b[0;32m32\u001b[0m\n\u001b[0;31m    def graph2walks(g: GraphFrame, p_node: float = 1.0, max_len: int = 5, bulk_s: int = 1):\u001b[0m\n\u001b[0m                                                                                           ^\u001b[0m\n\u001b[0;31mSyntaxError\u001b[0m\u001b[0;31m:\u001b[0m import * only allowed at module level\n"
     ]
    }
   ],
   "source": [
    "#erase\n",
    "sys.path.insert(0, '../gremlibXL')\n",
    "spark.sparkContext.addPyFile('../gremlibXL/rw_gen_spark.py')\n",
    "#----- gremlibXL ----\n",
    "from common_logic_rwg import *\n",
    "from rw_gen_spark import *"
   ]
  },
  {
   "cell_type": "markdown",
   "metadata": {},
   "source": [
    "#### WITH PARTITIONING"
   ]
  },
  {
   "cell_type": "code",
   "execution_count": null,
   "metadata": {},
   "outputs": [],
   "source": [
    "walk_list = [graph2walks(g) for g in l_sg]\n",
    "\n",
    "#df_all_wlks = reduce(DataFrame.union, walk_list)"
   ]
  },
  {
   "cell_type": "code",
   "execution_count": null,
   "metadata": {},
   "outputs": [],
   "source": [
    "walk_list[0].show(5,False)"
   ]
  },
  {
   "cell_type": "markdown",
   "metadata": {},
   "source": [
    "#### WITHout PARTITIONING"
   ]
  },
  {
   "cell_type": "code",
   "execution_count": null,
   "metadata": {},
   "outputs": [],
   "source": [
    "df_w_sample = graph2walks(sample_graph, bulk_s=20, p_node=1.0, max_len=40).persist()"
   ]
  },
  {
   "cell_type": "code",
   "execution_count": null,
   "metadata": {},
   "outputs": [],
   "source": [
    "df_w_sample"
   ]
  },
  {
   "cell_type": "markdown",
   "metadata": {},
   "source": [
    "#### Embeddings"
   ]
  },
  {
   "cell_type": "code",
   "execution_count": null,
   "metadata": {},
   "outputs": [],
   "source": [
    "g_emb = graphEmb(input_col = 'random_walks', output_col = 'vector', npart = 1, emb_size=40)"
   ]
  },
  {
   "cell_type": "code",
   "execution_count": null,
   "metadata": {},
   "outputs": [],
   "source": [
    "g_emb.fit(df_paths = df_w_sample)"
   ]
  },
  {
   "cell_type": "code",
   "execution_count": null,
   "metadata": {},
   "outputs": [],
   "source": [
    "df_vect = g_emb.model.getVectors()\n",
    "df_vect.count()"
   ]
  },
  {
   "cell_type": "code",
   "execution_count": null,
   "metadata": {},
   "outputs": [],
   "source": [
    "df_players_with_vect = df_sample_data.join(df_vect, df_sample_data.name == df_vect.word, 'inner').persist()"
   ]
  },
  {
   "cell_type": "code",
   "execution_count": null,
   "metadata": {},
   "outputs": [],
   "source": [
    "df_players_with_vect_bcn_mad = df_players_with_vect.filter(sf.col('club').isin(['Real Madrid','FC Barcelona','FC Tom Tomsk']))\n",
    "\n",
    "pnd_players = df_players_with_vect_bcn_mad.toPandas().sort_values(by='club')\n",
    "\n"
   ]
  },
  {
   "cell_type": "code",
   "execution_count": null,
   "metadata": {},
   "outputs": [],
   "source": [
    "plot_cos_similarities(pnd_players)"
   ]
  },
  {
   "cell_type": "code",
   "execution_count": null,
   "metadata": {},
   "outputs": [],
   "source": []
  },
  {
   "cell_type": "code",
   "execution_count": null,
   "metadata": {},
   "outputs": [],
   "source": []
  },
  {
   "cell_type": "code",
   "execution_count": null,
   "metadata": {},
   "outputs": [],
   "source": []
  },
  {
   "cell_type": "code",
   "execution_count": null,
   "metadata": {},
   "outputs": [],
   "source": []
  },
  {
   "cell_type": "code",
   "execution_count": 13,
   "metadata": {},
   "outputs": [],
   "source": [
    "FORMATIONS = {'4-3-3_4': {'gk': ['cb_1', 'cb_2'],                           # Real madrid\n",
    "                          'lb': ['lw', 'cb_1', 'cm_1'],\n",
    "                          'cb_1': ['lb', 'cb_2', 'gk'],\n",
    "                          'cb_2': ['rb', 'cb_1', 'gk'],\n",
    "                          'rb': ['rw', 'cb_2', 'cm_2'],\n",
    "                          'cm_1': ['cam', 'lw', 'cb_1', 'lb'],\n",
    "                          'cm_2': ['cam', 'rw', 'cb_2', 'rb'],\n",
    "                          'cam': ['cm_1', 'cm_2', 'st'],\n",
    "                          'lw': ['cm_1', 'lb', 'st'],\n",
    "                          'rw': ['cm_2', 'rb', 'st'],\n",
    "                          'st': ['cam', 'lw', 'rw']},\n",
    "              '5-2-2-1': {'gk': ['cb_1', 'cb_2', 'cb_3'],                   # Chelsea\n",
    "                          'cb_1': ['gk', 'cb_2', 'lwb'],\n",
    "                          'cb_2': ['gk', 'cb_1', 'cb_3', 'cm_1', 'cb_2'],\n",
    "                          'cb_3': ['gk', 'cb_2', 'rwb'],\n",
    "                          'lwb': ['cb_1', 'cm_1', 'lw'],\n",
    "                          'cm_1': ['lwb', 'cb_2', 'cm_2', 'lw', 'st'],\n",
    "                          'cm_2': ['rwb', 'cb_2', 'cm_1', 'rw', 'st'],\n",
    "                          'rwb': ['cb_3', 'cm_2', 'rw'],\n",
    "                          'lw': ['lwb', 'cm_1', 'st'],\n",
    "                          'st': ['lw', 'cm_1', 'cm_2', 'rw'],\n",
    "                          'rw': ['st', 'rwb', 'cm_2']},\n",
    "              '4-3-3_2': {'gk': ['cb_1', 'cb_2'],                           # Man UTD / CITY\n",
    "                          'lb': ['cb_1', 'cm_1'],\n",
    "                          'cb_1': ['lb', 'cb_2', 'gk', 'cdm'],\n",
    "                          'cb_2': ['rb', 'cb_1', 'gk', 'cdm'],\n",
    "                          'rb': ['cb_2', 'cm_2'],\n",
    "                          'cm_1': ['cdm', 'lw', 'lb', 'st'],\n",
    "                          'cm_2': ['cdm', 'rw', 'st', 'rb'],\n",
    "                          'cdm': ['cm_1', 'cm_2', 'cb_1', 'cb_2'],\n",
    "                          'lw': ['cm_1', 'st'],\n",
    "                          'rw': ['cm_2', 'st'],\n",
    "                          'st': ['cm_1', 'cm_2', 'lw', 'rw']},              # Juventus, Bayern\n",
    "              '4-2-3-1_2': {'gk': ['cb_1', 'cb_2'],\n",
    "                            'lb': ['lm', 'cdm_1', 'cb_1'],\n",
    "                            'cb_1': ['lb', 'cdm_1', 'gk', 'cb_2'],\n",
    "                            'cb_2': ['rb', 'cdm_2', 'gk', 'cb_1'],\n",
    "                            'rb': ['cb_2', 'rm', 'cdm_2'],\n",
    "                            'lm': ['lb', 'cdm_1', 'st', 'cam'],\n",
    "                            'rm': ['rb', 'cdm_2', 'st', 'cam'],\n",
    "                            'cdm_1': ['lm', 'cb_1', 'rb', 'cam'],\n",
    "                            'cdm_2': ['rm', 'cb_2', 'lb', 'cam'],\n",
    "                            'cam': ['cdm_1', 'cdm_2', 'rm', 'lm', 'st'],\n",
    "                            'st': ['lm', 'rm', 'cam']},\n",
    "              '4-3-3': {'gk': ['cb_1', 'cb_2'],                             # Napoli\n",
    "                        'lb': ['cb_1', 'cm_1'],\n",
    "                        'cb_1': ['lb', 'cb_2', 'gk', 'cm_2'],\n",
    "                        'cb_2': ['rb', 'cb_1', 'gk', 'cm_2'],\n",
    "                        'rb': ['cb_2', 'cm_3'],\n",
    "                        'cm_1': ['cm_2', 'lw', 'lb'],\n",
    "                        'cm_3': ['cm_2', 'rw', 'rb'],\n",
    "                        'cm_2': ['cm_1', 'cm_3', 'st', 'cb_1', 'cb_2'],\n",
    "                        'lw': ['cm_1', 'st'],\n",
    "                        'rw': ['cm_3', 'st'],\n",
    "                        'st': ['cm_2', 'lw', 'rw']}}"
   ]
  },
  {
   "cell_type": "code",
   "execution_count": 15,
   "metadata": {},
   "outputs": [
    {
     "data": {
      "text/plain": [
       "{'4-3-3_4': {'gk': ['cb_1', 'cb_2'],\n",
       "  'lb': ['lw', 'cb_1', 'cm_1'],\n",
       "  'cb_1': ['lb', 'cb_2', 'gk'],\n",
       "  'cb_2': ['rb', 'cb_1', 'gk'],\n",
       "  'rb': ['rw', 'cb_2', 'cm_2'],\n",
       "  'cm_1': ['cam', 'lw', 'cb_1', 'lb'],\n",
       "  'cm_2': ['cam', 'rw', 'cb_2', 'rb'],\n",
       "  'cam': ['cm_1', 'cm_2', 'st'],\n",
       "  'lw': ['cm_1', 'lb', 'st'],\n",
       "  'rw': ['cm_2', 'rb', 'st'],\n",
       "  'st': ['cam', 'lw', 'rw']},\n",
       " '5-2-2-1': {'gk': ['cb_1', 'cb_2', 'cb_3'],\n",
       "  'cb_1': ['gk', 'cb_2', 'lwb'],\n",
       "  'cb_2': ['gk', 'cb_1', 'cb_3', 'cm_1', 'cb_2'],\n",
       "  'cb_3': ['gk', 'cb_2', 'rwb'],\n",
       "  'lwb': ['cb_1', 'cm_1', 'lw'],\n",
       "  'cm_1': ['lwb', 'cb_2', 'cm_2', 'lw', 'st'],\n",
       "  'cm_2': ['rwb', 'cb_2', 'cm_1', 'rw', 'st'],\n",
       "  'rwb': ['cb_3', 'cm_2', 'rw'],\n",
       "  'lw': ['lwb', 'cm_1', 'st'],\n",
       "  'st': ['lw', 'cm_1', 'cm_2', 'rw'],\n",
       "  'rw': ['st', 'rwb', 'cm_2']},\n",
       " '4-3-3_2': {'gk': ['cb_1', 'cb_2'],\n",
       "  'lb': ['cb_1', 'cm_1'],\n",
       "  'cb_1': ['lb', 'cb_2', 'gk', 'cdm'],\n",
       "  'cb_2': ['rb', 'cb_1', 'gk', 'cdm'],\n",
       "  'rb': ['cb_2', 'cm_2'],\n",
       "  'cm_1': ['cdm', 'lw', 'lb', 'st'],\n",
       "  'cm_2': ['cdm', 'rw', 'st', 'rb'],\n",
       "  'cdm': ['cm_1', 'cm_2', 'cb_1', 'cb_2'],\n",
       "  'lw': ['cm_1', 'st'],\n",
       "  'rw': ['cm_2', 'st'],\n",
       "  'st': ['cm_1', 'cm_2', 'lw', 'rw']},\n",
       " '4-2-3-1_2': {'gk': ['cb_1', 'cb_2'],\n",
       "  'lb': ['lm', 'cdm_1', 'cb_1'],\n",
       "  'cb_1': ['lb', 'cdm_1', 'gk', 'cb_2'],\n",
       "  'cb_2': ['rb', 'cdm_2', 'gk', 'cb_1'],\n",
       "  'rb': ['cb_2', 'rm', 'cdm_2'],\n",
       "  'lm': ['lb', 'cdm_1', 'st', 'cam'],\n",
       "  'rm': ['rb', 'cdm_2', 'st', 'cam'],\n",
       "  'cdm_1': ['lm', 'cb_1', 'rb', 'cam'],\n",
       "  'cdm_2': ['rm', 'cb_2', 'lb', 'cam'],\n",
       "  'cam': ['cdm_1', 'cdm_2', 'rm', 'lm', 'st'],\n",
       "  'st': ['lm', 'rm', 'cam']},\n",
       " '4-3-3': {'gk': ['cb_1', 'cb_2'],\n",
       "  'lb': ['cb_1', 'cm_1'],\n",
       "  'cb_1': ['lb', 'cb_2', 'gk', 'cm_2'],\n",
       "  'cb_2': ['rb', 'cb_1', 'gk', 'cm_2'],\n",
       "  'rb': ['cb_2', 'cm_3'],\n",
       "  'cm_1': ['cm_2', 'lw', 'lb'],\n",
       "  'cm_3': ['cm_2', 'rw', 'rb'],\n",
       "  'cm_2': ['cm_1', 'cm_3', 'st', 'cb_1', 'cb_2'],\n",
       "  'lw': ['cm_1', 'st'],\n",
       "  'rw': ['cm_3', 'st'],\n",
       "  'st': ['cm_2', 'lw', 'rw']}}"
      ]
     },
     "execution_count": 15,
     "metadata": {},
     "output_type": "execute_result"
    }
   ],
   "source": [
    "FORMATIONS"
   ]
  },
  {
   "cell_type": "code",
   "execution_count": 23,
   "metadata": {},
   "outputs": [
    {
     "ename": "ModuleNotFoundError",
     "evalue": "No module named 'node2vec'",
     "output_type": "error",
     "traceback": [
      "\u001b[0;31m---------------------------------------------------------------------------\u001b[0m",
      "\u001b[0;31mModuleNotFoundError\u001b[0m                       Traceback (most recent call last)",
      "\u001b[0;32m<ipython-input-23-3d75d75e7e64>\u001b[0m in \u001b[0;36m<module>\u001b[0;34m\u001b[0m\n\u001b[1;32m     14\u001b[0m \u001b[0;32mimport\u001b[0m \u001b[0mmatplotlib\u001b[0m\u001b[0;34m.\u001b[0m\u001b[0mpatches\u001b[0m \u001b[0;32mas\u001b[0m \u001b[0mmpatches\u001b[0m\u001b[0;34m\u001b[0m\u001b[0;34m\u001b[0m\u001b[0m\n\u001b[1;32m     15\u001b[0m \u001b[0;32mimport\u001b[0m \u001b[0mseaborn\u001b[0m \u001b[0;32mas\u001b[0m \u001b[0msns\u001b[0m\u001b[0;34m\u001b[0m\u001b[0;34m\u001b[0m\u001b[0m\n\u001b[0;32m---> 16\u001b[0;31m \u001b[0;32mfrom\u001b[0m \u001b[0mnode2vec\u001b[0m \u001b[0;32mimport\u001b[0m \u001b[0mNode2Vec\u001b[0m\u001b[0;34m\u001b[0m\u001b[0;34m\u001b[0m\u001b[0m\n\u001b[0m\u001b[1;32m     17\u001b[0m \u001b[0;34m\u001b[0m\u001b[0m\n\u001b[1;32m     18\u001b[0m \u001b[0msns\u001b[0m\u001b[0;34m.\u001b[0m\u001b[0mset_style\u001b[0m\u001b[0;34m(\u001b[0m\u001b[0;34m'whitegrid'\u001b[0m\u001b[0;34m)\u001b[0m\u001b[0;34m\u001b[0m\u001b[0;34m\u001b[0m\u001b[0m\n",
      "\u001b[0;31mModuleNotFoundError\u001b[0m: No module named 'node2vec'"
     ]
    }
   ],
   "source": [
    "%matplotlib inline\n",
    "\n",
    "import warnings\n",
    "from text_unidecode import unidecode\n",
    "from collections import deque\n",
    "warnings.filterwarnings('ignore')\n",
    "\n",
    "\n",
    "import pandas as pd\n",
    "from sklearn.manifold import TSNE\n",
    "import numpy as np\n",
    "import networkx as nx\n",
    "import matplotlib.pyplot as plt\n",
    "import matplotlib.patches as mpatches\n",
    "import seaborn as sns\n",
    "from node2vec import Node2Vec\n",
    "\n",
    "sns.set_style('whitegrid')"
   ]
  },
  {
   "cell_type": "code",
   "execution_count": null,
   "metadata": {},
   "outputs": [],
   "source": [
    "add_club_suffix = lambda x, c: x + '_{}'.format(c)\n",
    "\n",
    "from collections import deque\n",
    "import networkx as nx\n",
    "graph = nx.Graph()\n",
    "formatted_positions = set()\n",
    "\n",
    "def club2graph(club_name, formation, graph):\n",
    "    club_data = data[data['club'] == club_name]\n",
    "    \n",
    "    club_formation = FORMATIONS[formation]\n",
    "    \n",
    "    club_positions = dict()\n",
    "    \n",
    "    # Assign positions to players\n",
    "    available_positions = deque(club_formation)\n",
    "    available_players = set(zip(club_data['name'], club_data['club_position']))\n",
    "    \n",
    "    roster = dict()  # Here we will store the assigned players and positions\n",
    "    \n",
    "    while available_positions:\n",
    "        position = available_positions.pop()\n",
    "        name, pos = [(name, position) for name, p in available_players if position.startswith(p)][0]        \n",
    "        \n",
    "        roster[name] = pos\n",
    "        \n",
    "        available_players.remove((name, pos.split('_')[0]))\n",
    "        \n",
    "    reverse_roster = {v: k for k, v in roster.items()}\n",
    "        \n",
    "    # Build the graph\n",
    "    for name, position in roster.items():\n",
    "        # Connect to team name\n",
    "        graph.add_edge(name, club_name)\n",
    "        \n",
    "        # Inter team connections\n",
    "        for teammate_position in club_formation[position]:\n",
    "            # Connect positions\n",
    "            graph.add_edge(add_club_suffix(position, club_name),\n",
    "                           add_club_suffix(teammate_position, club_name))\n",
    "            \n",
    "            # Connect player to teammate positions\n",
    "            graph.add_edge(name,\n",
    "                           add_club_suffix(teammate_position, club_name))\n",
    "            \n",
    "            # Connect player to teammates\n",
    "            graph.add_edge(name, reverse_roster[teammate_position])\n",
    "            \n",
    "            # Save for later trimming\n",
    "            formatted_positions.add(add_club_suffix(position, club_name))\n",
    "            formatted_positions.add(add_club_suffix(teammate_position, club_name))\n",
    "            \n",
    "    return graph"
   ]
  },
  {
   "cell_type": "code",
   "execution_count": null,
   "metadata": {},
   "outputs": [],
   "source": [
    "\n",
    "teams = [('real_madrid', '4-3-3_4'), \n",
    "         ('chelsea', '5-2-2-1'),\n",
    "         ('manchester_utd', '4-3-3_2'),\n",
    "         ('manchester_city', '4-3-3_2'),\n",
    "         ('juventus', '4-2-3-1_2'),\n",
    "         ('fc_bayern', '4-2-3-1_2'),\n",
    "         ('napoli', '4-3-3')]"
   ]
  },
  {
   "cell_type": "code",
   "execution_count": 24,
   "metadata": {},
   "outputs": [
    {
     "ename": "IndexError",
     "evalue": "list index out of range",
     "output_type": "error",
     "traceback": [
      "\u001b[0;31m---------------------------------------------------------------------------\u001b[0m",
      "\u001b[0;31mIndexError\u001b[0m                                Traceback (most recent call last)",
      "\u001b[0;32m<ipython-input-24-0de6675cac24>\u001b[0m in \u001b[0;36m<module>\u001b[0;34m\u001b[0m\n\u001b[0;32m----> 1\u001b[0;31m \u001b[0mgraph\u001b[0m \u001b[0;34m=\u001b[0m \u001b[0mclub2graph\u001b[0m\u001b[0;34m(\u001b[0m\u001b[0;34m'real_madrid'\u001b[0m\u001b[0;34m,\u001b[0m \u001b[0;34m'4-3-3_4'\u001b[0m\u001b[0;34m,\u001b[0m \u001b[0mgraph\u001b[0m\u001b[0;34m)\u001b[0m\u001b[0;34m\u001b[0m\u001b[0;34m\u001b[0m\u001b[0m\n\u001b[0m\u001b[1;32m      2\u001b[0m \u001b[0;34m\u001b[0m\u001b[0m\n\u001b[1;32m      3\u001b[0m \u001b[0;32mfor\u001b[0m \u001b[0mteam\u001b[0m\u001b[0;34m,\u001b[0m \u001b[0mformation\u001b[0m \u001b[0;32min\u001b[0m \u001b[0mteams\u001b[0m\u001b[0;34m:\u001b[0m\u001b[0;34m\u001b[0m\u001b[0;34m\u001b[0m\u001b[0m\n\u001b[1;32m      4\u001b[0m     \u001b[0mgraph\u001b[0m \u001b[0;34m=\u001b[0m \u001b[0mclub2graph\u001b[0m\u001b[0;34m(\u001b[0m\u001b[0mteam\u001b[0m\u001b[0;34m,\u001b[0m \u001b[0mformation\u001b[0m\u001b[0;34m,\u001b[0m \u001b[0mgraph\u001b[0m\u001b[0;34m)\u001b[0m\u001b[0;34m\u001b[0m\u001b[0;34m\u001b[0m\u001b[0m\n",
      "\u001b[0;32m<ipython-input-20-3cecd81fa107>\u001b[0m in \u001b[0;36mclub2graph\u001b[0;34m(club_name, formation, graph)\u001b[0m\n\u001b[1;32m     21\u001b[0m     \u001b[0;32mwhile\u001b[0m \u001b[0mavailable_positions\u001b[0m\u001b[0;34m:\u001b[0m\u001b[0;34m\u001b[0m\u001b[0;34m\u001b[0m\u001b[0m\n\u001b[1;32m     22\u001b[0m         \u001b[0mposition\u001b[0m \u001b[0;34m=\u001b[0m \u001b[0mavailable_positions\u001b[0m\u001b[0;34m.\u001b[0m\u001b[0mpop\u001b[0m\u001b[0;34m(\u001b[0m\u001b[0;34m)\u001b[0m\u001b[0;34m\u001b[0m\u001b[0;34m\u001b[0m\u001b[0m\n\u001b[0;32m---> 23\u001b[0;31m         \u001b[0mname\u001b[0m\u001b[0;34m,\u001b[0m \u001b[0mpos\u001b[0m \u001b[0;34m=\u001b[0m \u001b[0;34m[\u001b[0m\u001b[0;34m(\u001b[0m\u001b[0mname\u001b[0m\u001b[0;34m,\u001b[0m \u001b[0mposition\u001b[0m\u001b[0;34m)\u001b[0m \u001b[0;32mfor\u001b[0m \u001b[0mname\u001b[0m\u001b[0;34m,\u001b[0m \u001b[0mp\u001b[0m \u001b[0;32min\u001b[0m \u001b[0mavailable_players\u001b[0m \u001b[0;32mif\u001b[0m \u001b[0mposition\u001b[0m\u001b[0;34m.\u001b[0m\u001b[0mstartswith\u001b[0m\u001b[0;34m(\u001b[0m\u001b[0mp\u001b[0m\u001b[0;34m)\u001b[0m\u001b[0;34m]\u001b[0m\u001b[0;34m[\u001b[0m\u001b[0;36m0\u001b[0m\u001b[0;34m]\u001b[0m\u001b[0;34m\u001b[0m\u001b[0;34m\u001b[0m\u001b[0m\n\u001b[0m\u001b[1;32m     24\u001b[0m \u001b[0;34m\u001b[0m\u001b[0m\n\u001b[1;32m     25\u001b[0m         \u001b[0mroster\u001b[0m\u001b[0;34m[\u001b[0m\u001b[0mname\u001b[0m\u001b[0;34m]\u001b[0m \u001b[0;34m=\u001b[0m \u001b[0mpos\u001b[0m\u001b[0;34m\u001b[0m\u001b[0;34m\u001b[0m\u001b[0m\n",
      "\u001b[0;31mIndexError\u001b[0m: list index out of range"
     ]
    }
   ],
   "source": [
    "graph = club2graph('real_madrid', '4-3-3_4', graph)\n",
    "\n",
    "for team, formation in teams:\n",
    "    graph = club2graph(team, formation, graph)"
   ]
  },
  {
   "cell_type": "code",
   "execution_count": null,
   "metadata": {},
   "outputs": [],
   "source": []
  }
 ],
 "metadata": {
  "kernelspec": {
   "display_name": "Python 3",
   "language": "python",
   "name": "python3"
  },
  "language_info": {
   "codemirror_mode": {
    "name": "ipython",
    "version": 3
   },
   "file_extension": ".py",
   "mimetype": "text/x-python",
   "name": "python",
   "nbconvert_exporter": "python",
   "pygments_lexer": "ipython3",
   "version": "3.8.3"
  }
 },
 "nbformat": 4,
 "nbformat_minor": 4
}
