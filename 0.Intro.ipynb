{
 "cells": [
  {
   "cell_type": "markdown",
   "metadata": {},
   "source": [
    "## **NETWORKS/GRAPHS**\n",
    "\n",
    "This NB has links to other NBs with concepts"
   ]
  },
  {
   "cell_type": "markdown",
   "metadata": {},
   "source": [
    "## **Types of Graphs**\n",
    "\n",
    "* **Homogeneous graph** without features (a homogeneous graph is one with only one type of node and one type of edge)\n",
    "\n",
    "* **Homogeneous graph** with node/edge features\n",
    "\n",
    "* **Homogeneous graph** with edge weights\n",
    "\n",
    "* **Directed graphs** (a graph is directed if edges have a “start” and “end” nodes, instead of just connecting two nodes)\n",
    "\n",
    "* **Heterogeneous graphs** (more than one node type and/or more than one edge type) with and without node/edge features or edge weights, this includes knowledge graphs. For example, an heterogeneous graph that has two different types of nodes, people and cities, that are connected by four different types of edges.\n",
    "\n",
    "* **Static graphs** do not change with time, while \n",
    "\n",
    "* **Dynamic graphs** changes its structure over time, adding and removing nodes and edges, or altering attributes and features (e.g. node attributes can be time series), or both."
   ]
  },
  {
   "cell_type": "markdown",
   "metadata": {},
   "source": [
    "## **Concepts related with Graphs**\n",
    "\n",
    "* **Row Stochastic:**\n",
    "The sum of each row in the matrix of weights is equal to one\n",
    "\n",
    "* **Path** a walk where each node is distinct\n",
    "\n",
    "* **Cycle** a walk where the nodes i_1 = i_k\n",
    "\n",
    "* **Geodesic** a shortest path between two nodes"
   ]
  },
  {
   "cell_type": "markdown",
   "metadata": {},
   "source": [
    "## **Metrics**"
   ]
  },
  {
   "cell_type": "markdown",
   "metadata": {},
   "source": [
    "- [Centrality](./NBs/Centrality.ipynb)"
   ]
  },
  {
   "cell_type": "markdown",
   "metadata": {},
   "source": [
    "## **Graph machine learning problems**"
   ]
  },
  {
   "cell_type": "markdown",
   "metadata": {},
   "source": [
    "* **Unsupervised representation learning**:\n",
    "\n",
    "* **Node classification**, also known as **node attribute inference**, is the problem of inferring missing or incomplete attribute values of some nodes, given attribute values of other nodes in the network. The advantage over other machine learning methods is that node attribute inference gives you the ability to bring in context and neighbourhood information into your predictions. For example, in an online social network we might be interested in predicting the music preferences of a user’s friendship network\n",
    "\n",
    "* **Link prediction** this is the problem of inferring missing or finding hidden relationships between entities.  Link Prediction is the task to predict the missing links in graphs.\n",
    "\n",
    "    * We may be interested in predicting missing relationships because some were hidden from us during data collection. \n",
    "    * Alternatively, we may be interested in predicting how the network structure will evolve in the future through insertion or deletion of links, given its snapshot at current time. \n",
    "\n",
    "Link prediction is an algorithm that we use every day, as it is typically the algorithm behind recommender systems. For example, \n",
    "\n",
    "* in an online social network, we can use link prediction to suggest new friends to members. \n",
    "* Another example is product recommendation for a content provider or an e-commerce website.\n",
    "* Predict whether a paper will cite another paper\n",
    "\n",
    "- [Deep walk](./NBs/Deep_walk_python.ipynb)\n",
    "\n",
    "* **Community detection** infers communities or clusters of nodes based on the graph’s structure, similarity of node attributes, or both. There are many applications for community detection, [1]. One example is segmentation of users of a social network into communities based on their hobbies, without having to explicitly ask each user if they are interested in that topic. Instead answers to topical questions, for example, ‘Do you like fiction or nonfiction?’, are answered by the algorithm using the data gathered from the people the individual frequently interacts with. Such segmentation can be used to deliver targeted ads based on common traits of community members.\n",
    "\n",
    "* **Graph classification** is the problem of discriminating between graphs of different classes. As an example, consider the representation of a chemical compound as a graph; in this case, nodes are atoms and edges are bonds between atoms. Given a set of chemical compounds each represented as a graph, we want to predict whether a compound is cancer-hindering or not. This is a graph classification problem, [2].\n",
    "\n",
    "- [Graph Search Algorithms](./NBs/The_Transport_Graph.ipynb)\n",
    "\n",
    "- [DeepWalk](./NBs/Deep_walk_python.ipynb)"
   ]
  },
  {
   "cell_type": "markdown",
   "metadata": {},
   "source": [
    "### **Embeddings**\n",
    "\n",
    "- [RandomEmbeddings](./NBs/RandomEmbeddings.ipynb)\n",
    "- [Graph Embedding approaches](./NBs/Graph_Embedding_approaches.ipynb)"
   ]
  },
  {
   "cell_type": "markdown",
   "metadata": {},
   "source": [
    "### **Examples**"
   ]
  },
  {
   "cell_type": "markdown",
   "metadata": {},
   "source": [
    "- [Airports](./NBs/Airports.ipynb)\n",
    "- [Feature Engineering](./NBs/feature_engineering.ipynb)\n",
    "- [Node2Vec](./NBs/Node2Vec.ipynb)\n",
    "- [NODE CLASSIFICATION EXAMPLE](./NBs/Node2Vec(NodeClassificationExample).ipynb)\n",
    "- [Node2Vec Futbol](./NBs/Node2Vec(futbol).ipynb)\n",
    "- [Link Prediction for recomendations](./NBs/Node2Vec(Link_prediction).ipynb)\n",
    "- [Link Prediction for recomendations_1](./NBs/[Exploratory]Facebook_Followers.ipynb)\n",
    "- [Link Prediction for recomendations_2](./NBs/[Node2Vect]Facebook_Followers.ipynb)\n",
    "- [Unsupervised representation learning](./NBs/Unsupervised_representation_learning.ipynb)"
   ]
  },
  {
   "cell_type": "markdown",
   "metadata": {},
   "source": []
  },
  {
   "cell_type": "code",
   "execution_count": null,
   "metadata": {},
   "outputs": [],
   "source": []
  }
 ],
 "metadata": {
  "kernelspec": {
   "display_name": "Python 3",
   "language": "python",
   "name": "python3"
  },
  "language_info": {
   "codemirror_mode": {
    "name": "ipython",
    "version": 3
   },
   "file_extension": ".py",
   "mimetype": "text/x-python",
   "name": "python",
   "nbconvert_exporter": "python",
   "pygments_lexer": "ipython3",
   "version": "3.7.4"
  }
 },
 "nbformat": 4,
 "nbformat_minor": 4
}
