{
 "cells": [
  {
   "cell_type": "markdown",
   "metadata": {},
   "source": [
    "### Node2vec"
   ]
  },
  {
   "cell_type": "code",
   "execution_count": 1,
   "metadata": {},
   "outputs": [],
   "source": [
    "import os\n",
    "#os.environ['PYSPARK_SUBMIT_ARGS'] = '--packages graphframes:graphframes:0.6.0-spark2.3-s_2.11 pyspark-shell'\n",
    "os.environ['PYSPARK_SUBMIT_ARGS'] = '--packages graphframes:graphframes:0.7.0-spark2.3-s_2.11 pyspark-shell'\n",
    "#os.environ['PYSPARK_SUBMIT_ARGS'] = '--packages graphframes:graphframes:0.8.0-spark3.0-s_2.12 pyspark-shell'\n",
    "\n",
    "import pyspark\n",
    "from pyspark.sql import *\n",
    "from pyspark.sql.functions import udf\n",
    "import matplotlib.pyplot as plt"
   ]
  },
  {
   "cell_type": "code",
   "execution_count": 2,
   "metadata": {},
   "outputs": [],
   "source": [
    "import pyspark\n",
    "from pyspark.sql import SparkSession\n",
    "from pyspark.sql import HiveContext\n",
    "from pyspark.sql import SQLContext\n",
    "import pyspark.sql.functions as sf\n",
    "from pyspark.sql.types import *\n",
    "from pyspark.storagelevel import StorageLevel"
   ]
  },
  {
   "cell_type": "code",
   "execution_count": 3,
   "metadata": {},
   "outputs": [],
   "source": [
    "sc = pyspark.SparkContext(\"local[*]\")\n",
    "spark = SparkSession.builder.appName('notebook').getOrCreate()"
   ]
  },
  {
   "cell_type": "code",
   "execution_count": 4,
   "metadata": {},
   "outputs": [
    {
     "data": {
      "text/html": [
       "\n",
       "            <div>\n",
       "                <p><b>SparkSession - in-memory</b></p>\n",
       "                \n",
       "        <div>\n",
       "            <p><b>SparkContext</b></p>\n",
       "\n",
       "            <p><a href=\"http://192.168.0.13:4043\">Spark UI</a></p>\n",
       "\n",
       "            <dl>\n",
       "              <dt>Version</dt>\n",
       "                <dd><code>v2.4.4</code></dd>\n",
       "              <dt>Master</dt>\n",
       "                <dd><code>local[*]</code></dd>\n",
       "              <dt>AppName</dt>\n",
       "                <dd><code>pyspark-shell</code></dd>\n",
       "            </dl>\n",
       "        </div>\n",
       "        \n",
       "            </div>\n",
       "        "
      ],
      "text/plain": [
       "<pyspark.sql.session.SparkSession at 0x1209c6f90>"
      ]
     },
     "execution_count": 4,
     "metadata": {},
     "output_type": "execute_result"
    }
   ],
   "source": [
    "spark"
   ]
  },
  {
   "cell_type": "code",
   "execution_count": 5,
   "metadata": {},
   "outputs": [],
   "source": [
    "import sys\n",
    "import os\n",
    "import pyspark\n",
    "from pyspark.sql import *\n",
    "from graphframes import *\n",
    "from functools import reduce\n",
    "import hashlib\n",
    "import pandas as pnd"
   ]
  },
  {
   "cell_type": "markdown",
   "metadata": {},
   "source": [
    "### Load Data"
   ]
  },
  {
   "cell_type": "code",
   "execution_count": 6,
   "metadata": {},
   "outputs": [],
   "source": [
    "dataset_f = 'data/FullData_fifa_2017.csv'\n",
    "data = pnd.read_csv(dataset_f , \n",
    "        usecols=['Name', 'Club', 'Club_Position', 'Rating','Nationality'])"
   ]
  },
  {
   "cell_type": "code",
   "execution_count": 7,
   "metadata": {},
   "outputs": [
    {
     "data": {
      "text/html": [
       "<div>\n",
       "<style scoped>\n",
       "    .dataframe tbody tr th:only-of-type {\n",
       "        vertical-align: middle;\n",
       "    }\n",
       "\n",
       "    .dataframe tbody tr th {\n",
       "        vertical-align: top;\n",
       "    }\n",
       "\n",
       "    .dataframe thead th {\n",
       "        text-align: right;\n",
       "    }\n",
       "</style>\n",
       "<table border=\"1\" class=\"dataframe\">\n",
       "  <thead>\n",
       "    <tr style=\"text-align: right;\">\n",
       "      <th></th>\n",
       "      <th>Name</th>\n",
       "      <th>Nationality</th>\n",
       "      <th>Club</th>\n",
       "      <th>Club_Position</th>\n",
       "      <th>Rating</th>\n",
       "    </tr>\n",
       "  </thead>\n",
       "  <tbody>\n",
       "    <tr>\n",
       "      <th>0</th>\n",
       "      <td>Cristiano Ronaldo</td>\n",
       "      <td>Portugal</td>\n",
       "      <td>Real Madrid</td>\n",
       "      <td>LW</td>\n",
       "      <td>94</td>\n",
       "    </tr>\n",
       "    <tr>\n",
       "      <th>1</th>\n",
       "      <td>Lionel Messi</td>\n",
       "      <td>Argentina</td>\n",
       "      <td>FC Barcelona</td>\n",
       "      <td>RW</td>\n",
       "      <td>93</td>\n",
       "    </tr>\n",
       "    <tr>\n",
       "      <th>2</th>\n",
       "      <td>Neymar</td>\n",
       "      <td>Brazil</td>\n",
       "      <td>FC Barcelona</td>\n",
       "      <td>LW</td>\n",
       "      <td>92</td>\n",
       "    </tr>\n",
       "    <tr>\n",
       "      <th>3</th>\n",
       "      <td>Luis Suárez</td>\n",
       "      <td>Uruguay</td>\n",
       "      <td>FC Barcelona</td>\n",
       "      <td>ST</td>\n",
       "      <td>92</td>\n",
       "    </tr>\n",
       "    <tr>\n",
       "      <th>4</th>\n",
       "      <td>Manuel Neuer</td>\n",
       "      <td>Germany</td>\n",
       "      <td>FC Bayern</td>\n",
       "      <td>GK</td>\n",
       "      <td>92</td>\n",
       "    </tr>\n",
       "  </tbody>\n",
       "</table>\n",
       "</div>"
      ],
      "text/plain": [
       "                Name Nationality          Club Club_Position  Rating\n",
       "0  Cristiano Ronaldo    Portugal   Real Madrid            LW      94\n",
       "1       Lionel Messi   Argentina  FC Barcelona            RW      93\n",
       "2             Neymar      Brazil  FC Barcelona            LW      92\n",
       "3        Luis Suárez     Uruguay  FC Barcelona            ST      92\n",
       "4       Manuel Neuer     Germany     FC Bayern            GK      92"
      ]
     },
     "execution_count": 7,
     "metadata": {},
     "output_type": "execute_result"
    }
   ],
   "source": [
    "data.head()"
   ]
  },
  {
   "cell_type": "code",
   "execution_count": 8,
   "metadata": {},
   "outputs": [],
   "source": [
    "# Lowercase columns for convenience\n",
    "data.columns = list(map(str.lower, data.columns))\n",
    "\n",
    "# Lowercase position\n",
    "data['club_position'] = data['club_position'].str.lower()\n",
    "\n",
    "# Ignore substitutes and reserves \n",
    "data = data[(data['club_position'] != 'sub') & (data['club_position'] != 'res')]"
   ]
  },
  {
   "cell_type": "code",
   "execution_count": 9,
   "metadata": {},
   "outputs": [],
   "source": [
    "# Fix lcm rcm -> cm cm\n",
    "fix_positions = {'rcm' : 'cm', 'lcm': 'cm', 'rcb': 'cb', 'lcb': 'cb', 'ldm': 'cdm', 'rdm': 'cdm'}\n",
    "data['club_position'] = data['club_position'].apply(lambda x: fix_positions.get(x, x))"
   ]
  },
  {
   "cell_type": "code",
   "execution_count": 10,
   "metadata": {},
   "outputs": [],
   "source": [
    "data = data.applymap(str)"
   ]
  },
  {
   "cell_type": "code",
   "execution_count": 11,
   "metadata": {},
   "outputs": [],
   "source": [
    "df_sample_data = spark.createDataFrame(data)"
   ]
  },
  {
   "cell_type": "code",
   "execution_count": 12,
   "metadata": {},
   "outputs": [
    {
     "name": "stdout",
     "output_type": "stream",
     "text": [
      "+------------------+-----------+---------------+-------------+------+\n",
      "|              name|nationality|           club|club_position|rating|\n",
      "+------------------+-----------+---------------+-------------+------+\n",
      "| Cristiano Ronaldo|   Portugal|    Real Madrid|           lw|    94|\n",
      "|      Lionel Messi|  Argentina|   FC Barcelona|           rw|    93|\n",
      "|            Neymar|     Brazil|   FC Barcelona|           lw|    92|\n",
      "|       Luis Suárez|    Uruguay|   FC Barcelona|           st|    92|\n",
      "|      Manuel Neuer|    Germany|      FC Bayern|           gk|    92|\n",
      "|            De Gea|      Spain| Manchester Utd|           gk|    90|\n",
      "|Robert Lewandowski|     Poland|      FC Bayern|           st|    90|\n",
      "|       Gareth Bale|      Wales|    Real Madrid|           rw|    90|\n",
      "|Zlatan Ibrahimović|     Sweden| Manchester Utd|           st|    90|\n",
      "|  Thibaut Courtois|    Belgium|        Chelsea|           gk|    89|\n",
      "|       Eden Hazard|    Belgium|        Chelsea|           lw|    89|\n",
      "|       Luka Modrić|    Croatia|    Real Madrid|           cm|    89|\n",
      "|        Mesut Özil|    Germany|        Arsenal|          cam|    89|\n",
      "|   Gonzalo Higuaín|  Argentina|       Juventus|           st|    89|\n",
      "|      Thiago Silva|     Brazil|            PSG|           cb|    89|\n",
      "|      Sergio Ramos|      Spain|    Real Madrid|           cb|    89|\n",
      "|     Sergio Agüero|  Argentina|Manchester City|           st|    89|\n",
      "|        Paul Pogba|     France| Manchester Utd|           cm|    88|\n",
      "| Antoine Griezmann|     France|Atlético Madrid|           rs|    88|\n",
      "|   Kevin De Bruyne|    Belgium|Manchester City|           cm|    88|\n",
      "+------------------+-----------+---------------+-------------+------+\n",
      "only showing top 20 rows\n",
      "\n"
     ]
    }
   ],
   "source": [
    "df_sample_data.show()"
   ]
  },
  {
   "cell_type": "code",
   "execution_count": 14,
   "metadata": {},
   "outputs": [],
   "source": [
    "FORMATIONS = {'4-3-3_4': {'gk': ['cb_1', 'cb_2'],                           # Real madrid\n",
    "                          'lb': ['lw', 'cb_1', 'cm_1'],\n",
    "                          'cb_1': ['lb', 'cb_2', 'gk'],\n",
    "                          'cb_2': ['rb', 'cb_1', 'gk'],\n",
    "                          'rb': ['rw', 'cb_2', 'cm_2'],\n",
    "                          'cm_1': ['cam', 'lw', 'cb_1', 'lb'],\n",
    "                          'cm_2': ['cam', 'rw', 'cb_2', 'rb'],\n",
    "                          'cam': ['cm_1', 'cm_2', 'st'],\n",
    "                          'lw': ['cm_1', 'lb', 'st'],\n",
    "                          'rw': ['cm_2', 'rb', 'st'],\n",
    "                          'st': ['cam', 'lw', 'rw']},\n",
    "              '5-2-2-1': {'gk': ['cb_1', 'cb_2', 'cb_3'],                   # Chelsea\n",
    "                          'cb_1': ['gk', 'cb_2', 'lwb'],\n",
    "                          'cb_2': ['gk', 'cb_1', 'cb_3', 'cm_1', 'cb_2'],\n",
    "                          'cb_3': ['gk', 'cb_2', 'rwb'],\n",
    "                          'lwb': ['cb_1', 'cm_1', 'lw'],\n",
    "                          'cm_1': ['lwb', 'cb_2', 'cm_2', 'lw', 'st'],\n",
    "                          'cm_2': ['rwb', 'cb_2', 'cm_1', 'rw', 'st'],\n",
    "                          'rwb': ['cb_3', 'cm_2', 'rw'],\n",
    "                          'lw': ['lwb', 'cm_1', 'st'],\n",
    "                          'st': ['lw', 'cm_1', 'cm_2', 'rw'],\n",
    "                          'rw': ['st', 'rwb', 'cm_2']},\n",
    "              '4-3-3_2': {'gk': ['cb_1', 'cb_2'],                           # Man UTD / CITY\n",
    "                          'lb': ['cb_1', 'cm_1'],\n",
    "                          'cb_1': ['lb', 'cb_2', 'gk', 'cdm'],\n",
    "                          'cb_2': ['rb', 'cb_1', 'gk', 'cdm'],\n",
    "                          'rb': ['cb_2', 'cm_2'],\n",
    "                          'cm_1': ['cdm', 'lw', 'lb', 'st'],\n",
    "                          'cm_2': ['cdm', 'rw', 'st', 'rb'],\n",
    "                          'cdm': ['cm_1', 'cm_2', 'cb_1', 'cb_2'],\n",
    "                          'lw': ['cm_1', 'st'],\n",
    "                          'rw': ['cm_2', 'st'],\n",
    "                          'st': ['cm_1', 'cm_2', 'lw', 'rw']},              # Juventus, Bayern\n",
    "              '4-2-3-1_2': {'gk': ['cb_1', 'cb_2'],\n",
    "                            'lb': ['lm', 'cdm_1', 'cb_1'],\n",
    "                            'cb_1': ['lb', 'cdm_1', 'gk', 'cb_2'],\n",
    "                            'cb_2': ['rb', 'cdm_2', 'gk', 'cb_1'],\n",
    "                            'rb': ['cb_2', 'rm', 'cdm_2'],\n",
    "                            'lm': ['lb', 'cdm_1', 'st', 'cam'],\n",
    "                            'rm': ['rb', 'cdm_2', 'st', 'cam'],\n",
    "                            'cdm_1': ['lm', 'cb_1', 'rb', 'cam'],\n",
    "                            'cdm_2': ['rm', 'cb_2', 'lb', 'cam'],\n",
    "                            'cam': ['cdm_1', 'cdm_2', 'rm', 'lm', 'st'],\n",
    "                            'st': ['lm', 'rm', 'cam']},\n",
    "              '4-3-3': {'gk': ['cb_1', 'cb_2'],                             # Napoli\n",
    "                        'lb': ['cb_1', 'cm_1'],\n",
    "                        'cb_1': ['lb', 'cb_2', 'gk', 'cm_2'],\n",
    "                        'cb_2': ['rb', 'cb_1', 'gk', 'cm_2'],\n",
    "                        'rb': ['cb_2', 'cm_3'],\n",
    "                        'cm_1': ['cm_2', 'lw', 'lb'],\n",
    "                        'cm_3': ['cm_2', 'rw', 'rb'],\n",
    "                        'cm_2': ['cm_1', 'cm_3', 'st', 'cb_1', 'cb_2'],\n",
    "                        'lw': ['cm_1', 'st'],\n",
    "                        'rw': ['cm_3', 'st'],\n",
    "                        'st': ['cm_2', 'lw', 'rw']}}"
   ]
  },
  {
   "cell_type": "code",
   "execution_count": 15,
   "metadata": {},
   "outputs": [
    {
     "data": {
      "text/plain": [
       "{'4-3-3_4': {'gk': ['cb_1', 'cb_2'],\n",
       "  'lb': ['lw', 'cb_1', 'cm_1'],\n",
       "  'cb_1': ['lb', 'cb_2', 'gk'],\n",
       "  'cb_2': ['rb', 'cb_1', 'gk'],\n",
       "  'rb': ['rw', 'cb_2', 'cm_2'],\n",
       "  'cm_1': ['cam', 'lw', 'cb_1', 'lb'],\n",
       "  'cm_2': ['cam', 'rw', 'cb_2', 'rb'],\n",
       "  'cam': ['cm_1', 'cm_2', 'st'],\n",
       "  'lw': ['cm_1', 'lb', 'st'],\n",
       "  'rw': ['cm_2', 'rb', 'st'],\n",
       "  'st': ['cam', 'lw', 'rw']},\n",
       " '5-2-2-1': {'gk': ['cb_1', 'cb_2', 'cb_3'],\n",
       "  'cb_1': ['gk', 'cb_2', 'lwb'],\n",
       "  'cb_2': ['gk', 'cb_1', 'cb_3', 'cm_1', 'cb_2'],\n",
       "  'cb_3': ['gk', 'cb_2', 'rwb'],\n",
       "  'lwb': ['cb_1', 'cm_1', 'lw'],\n",
       "  'cm_1': ['lwb', 'cb_2', 'cm_2', 'lw', 'st'],\n",
       "  'cm_2': ['rwb', 'cb_2', 'cm_1', 'rw', 'st'],\n",
       "  'rwb': ['cb_3', 'cm_2', 'rw'],\n",
       "  'lw': ['lwb', 'cm_1', 'st'],\n",
       "  'st': ['lw', 'cm_1', 'cm_2', 'rw'],\n",
       "  'rw': ['st', 'rwb', 'cm_2']},\n",
       " '4-3-3_2': {'gk': ['cb_1', 'cb_2'],\n",
       "  'lb': ['cb_1', 'cm_1'],\n",
       "  'cb_1': ['lb', 'cb_2', 'gk', 'cdm'],\n",
       "  'cb_2': ['rb', 'cb_1', 'gk', 'cdm'],\n",
       "  'rb': ['cb_2', 'cm_2'],\n",
       "  'cm_1': ['cdm', 'lw', 'lb', 'st'],\n",
       "  'cm_2': ['cdm', 'rw', 'st', 'rb'],\n",
       "  'cdm': ['cm_1', 'cm_2', 'cb_1', 'cb_2'],\n",
       "  'lw': ['cm_1', 'st'],\n",
       "  'rw': ['cm_2', 'st'],\n",
       "  'st': ['cm_1', 'cm_2', 'lw', 'rw']},\n",
       " '4-2-3-1_2': {'gk': ['cb_1', 'cb_2'],\n",
       "  'lb': ['lm', 'cdm_1', 'cb_1'],\n",
       "  'cb_1': ['lb', 'cdm_1', 'gk', 'cb_2'],\n",
       "  'cb_2': ['rb', 'cdm_2', 'gk', 'cb_1'],\n",
       "  'rb': ['cb_2', 'rm', 'cdm_2'],\n",
       "  'lm': ['lb', 'cdm_1', 'st', 'cam'],\n",
       "  'rm': ['rb', 'cdm_2', 'st', 'cam'],\n",
       "  'cdm_1': ['lm', 'cb_1', 'rb', 'cam'],\n",
       "  'cdm_2': ['rm', 'cb_2', 'lb', 'cam'],\n",
       "  'cam': ['cdm_1', 'cdm_2', 'rm', 'lm', 'st'],\n",
       "  'st': ['lm', 'rm', 'cam']},\n",
       " '4-3-3': {'gk': ['cb_1', 'cb_2'],\n",
       "  'lb': ['cb_1', 'cm_1'],\n",
       "  'cb_1': ['lb', 'cb_2', 'gk', 'cm_2'],\n",
       "  'cb_2': ['rb', 'cb_1', 'gk', 'cm_2'],\n",
       "  'rb': ['cb_2', 'cm_3'],\n",
       "  'cm_1': ['cm_2', 'lw', 'lb'],\n",
       "  'cm_3': ['cm_2', 'rw', 'rb'],\n",
       "  'cm_2': ['cm_1', 'cm_3', 'st', 'cb_1', 'cb_2'],\n",
       "  'lw': ['cm_1', 'st'],\n",
       "  'rw': ['cm_3', 'st'],\n",
       "  'st': ['cm_2', 'lw', 'rw']}}"
      ]
     },
     "execution_count": 15,
     "metadata": {},
     "output_type": "execute_result"
    }
   ],
   "source": [
    "FORMATIONS"
   ]
  },
  {
   "cell_type": "code",
   "execution_count": 23,
   "metadata": {},
   "outputs": [
    {
     "ename": "ModuleNotFoundError",
     "evalue": "No module named 'node2vec'",
     "output_type": "error",
     "traceback": [
      "\u001b[0;31m---------------------------------------------------------------------------\u001b[0m",
      "\u001b[0;31mModuleNotFoundError\u001b[0m                       Traceback (most recent call last)",
      "\u001b[0;32m<ipython-input-23-3d75d75e7e64>\u001b[0m in \u001b[0;36m<module>\u001b[0;34m\u001b[0m\n\u001b[1;32m     14\u001b[0m \u001b[0;32mimport\u001b[0m \u001b[0mmatplotlib\u001b[0m\u001b[0;34m.\u001b[0m\u001b[0mpatches\u001b[0m \u001b[0;32mas\u001b[0m \u001b[0mmpatches\u001b[0m\u001b[0;34m\u001b[0m\u001b[0;34m\u001b[0m\u001b[0m\n\u001b[1;32m     15\u001b[0m \u001b[0;32mimport\u001b[0m \u001b[0mseaborn\u001b[0m \u001b[0;32mas\u001b[0m \u001b[0msns\u001b[0m\u001b[0;34m\u001b[0m\u001b[0;34m\u001b[0m\u001b[0m\n\u001b[0;32m---> 16\u001b[0;31m \u001b[0;32mfrom\u001b[0m \u001b[0mnode2vec\u001b[0m \u001b[0;32mimport\u001b[0m \u001b[0mNode2Vec\u001b[0m\u001b[0;34m\u001b[0m\u001b[0;34m\u001b[0m\u001b[0m\n\u001b[0m\u001b[1;32m     17\u001b[0m \u001b[0;34m\u001b[0m\u001b[0m\n\u001b[1;32m     18\u001b[0m \u001b[0msns\u001b[0m\u001b[0;34m.\u001b[0m\u001b[0mset_style\u001b[0m\u001b[0;34m(\u001b[0m\u001b[0;34m'whitegrid'\u001b[0m\u001b[0;34m)\u001b[0m\u001b[0;34m\u001b[0m\u001b[0;34m\u001b[0m\u001b[0m\n",
      "\u001b[0;31mModuleNotFoundError\u001b[0m: No module named 'node2vec'"
     ]
    }
   ],
   "source": [
    "%matplotlib inline\n",
    "\n",
    "import warnings\n",
    "from text_unidecode import unidecode\n",
    "from collections import deque\n",
    "warnings.filterwarnings('ignore')\n",
    "\n",
    "\n",
    "import pandas as pd\n",
    "from sklearn.manifold import TSNE\n",
    "import numpy as np\n",
    "import networkx as nx\n",
    "import matplotlib.pyplot as plt\n",
    "import matplotlib.patches as mpatches\n",
    "import seaborn as sns\n",
    "from node2vec import Node2Vec\n",
    "\n",
    "sns.set_style('whitegrid')"
   ]
  },
  {
   "cell_type": "code",
   "execution_count": null,
   "metadata": {},
   "outputs": [],
   "source": [
    "add_club_suffix = lambda x, c: x + '_{}'.format(c)\n",
    "\n",
    "from collections import deque\n",
    "import networkx as nx\n",
    "graph = nx.Graph()\n",
    "formatted_positions = set()\n",
    "\n",
    "def club2graph(club_name, formation, graph):\n",
    "    club_data = data[data['club'] == club_name]\n",
    "    \n",
    "    club_formation = FORMATIONS[formation]\n",
    "    \n",
    "    club_positions = dict()\n",
    "    \n",
    "    # Assign positions to players\n",
    "    available_positions = deque(club_formation)\n",
    "    available_players = set(zip(club_data['name'], club_data['club_position']))\n",
    "    \n",
    "    roster = dict()  # Here we will store the assigned players and positions\n",
    "    \n",
    "    while available_positions:\n",
    "        position = available_positions.pop()\n",
    "        name, pos = [(name, position) for name, p in available_players if position.startswith(p)][0]        \n",
    "        \n",
    "        roster[name] = pos\n",
    "        \n",
    "        available_players.remove((name, pos.split('_')[0]))\n",
    "        \n",
    "    reverse_roster = {v: k for k, v in roster.items()}\n",
    "        \n",
    "    # Build the graph\n",
    "    for name, position in roster.items():\n",
    "        # Connect to team name\n",
    "        graph.add_edge(name, club_name)\n",
    "        \n",
    "        # Inter team connections\n",
    "        for teammate_position in club_formation[position]:\n",
    "            # Connect positions\n",
    "            graph.add_edge(add_club_suffix(position, club_name),\n",
    "                           add_club_suffix(teammate_position, club_name))\n",
    "            \n",
    "            # Connect player to teammate positions\n",
    "            graph.add_edge(name,\n",
    "                           add_club_suffix(teammate_position, club_name))\n",
    "            \n",
    "            # Connect player to teammates\n",
    "            graph.add_edge(name, reverse_roster[teammate_position])\n",
    "            \n",
    "            # Save for later trimming\n",
    "            formatted_positions.add(add_club_suffix(position, club_name))\n",
    "            formatted_positions.add(add_club_suffix(teammate_position, club_name))\n",
    "            \n",
    "    return graph"
   ]
  },
  {
   "cell_type": "code",
   "execution_count": null,
   "metadata": {},
   "outputs": [],
   "source": [
    "\n",
    "teams = [('real_madrid', '4-3-3_4'), \n",
    "         ('chelsea', '5-2-2-1'),\n",
    "         ('manchester_utd', '4-3-3_2'),\n",
    "         ('manchester_city', '4-3-3_2'),\n",
    "         ('juventus', '4-2-3-1_2'),\n",
    "         ('fc_bayern', '4-2-3-1_2'),\n",
    "         ('napoli', '4-3-3')]"
   ]
  },
  {
   "cell_type": "code",
   "execution_count": 24,
   "metadata": {},
   "outputs": [
    {
     "ename": "IndexError",
     "evalue": "list index out of range",
     "output_type": "error",
     "traceback": [
      "\u001b[0;31m---------------------------------------------------------------------------\u001b[0m",
      "\u001b[0;31mIndexError\u001b[0m                                Traceback (most recent call last)",
      "\u001b[0;32m<ipython-input-24-0de6675cac24>\u001b[0m in \u001b[0;36m<module>\u001b[0;34m\u001b[0m\n\u001b[0;32m----> 1\u001b[0;31m \u001b[0mgraph\u001b[0m \u001b[0;34m=\u001b[0m \u001b[0mclub2graph\u001b[0m\u001b[0;34m(\u001b[0m\u001b[0;34m'real_madrid'\u001b[0m\u001b[0;34m,\u001b[0m \u001b[0;34m'4-3-3_4'\u001b[0m\u001b[0;34m,\u001b[0m \u001b[0mgraph\u001b[0m\u001b[0;34m)\u001b[0m\u001b[0;34m\u001b[0m\u001b[0;34m\u001b[0m\u001b[0m\n\u001b[0m\u001b[1;32m      2\u001b[0m \u001b[0;34m\u001b[0m\u001b[0m\n\u001b[1;32m      3\u001b[0m \u001b[0;32mfor\u001b[0m \u001b[0mteam\u001b[0m\u001b[0;34m,\u001b[0m \u001b[0mformation\u001b[0m \u001b[0;32min\u001b[0m \u001b[0mteams\u001b[0m\u001b[0;34m:\u001b[0m\u001b[0;34m\u001b[0m\u001b[0;34m\u001b[0m\u001b[0m\n\u001b[1;32m      4\u001b[0m     \u001b[0mgraph\u001b[0m \u001b[0;34m=\u001b[0m \u001b[0mclub2graph\u001b[0m\u001b[0;34m(\u001b[0m\u001b[0mteam\u001b[0m\u001b[0;34m,\u001b[0m \u001b[0mformation\u001b[0m\u001b[0;34m,\u001b[0m \u001b[0mgraph\u001b[0m\u001b[0;34m)\u001b[0m\u001b[0;34m\u001b[0m\u001b[0;34m\u001b[0m\u001b[0m\n",
      "\u001b[0;32m<ipython-input-20-3cecd81fa107>\u001b[0m in \u001b[0;36mclub2graph\u001b[0;34m(club_name, formation, graph)\u001b[0m\n\u001b[1;32m     21\u001b[0m     \u001b[0;32mwhile\u001b[0m \u001b[0mavailable_positions\u001b[0m\u001b[0;34m:\u001b[0m\u001b[0;34m\u001b[0m\u001b[0;34m\u001b[0m\u001b[0m\n\u001b[1;32m     22\u001b[0m         \u001b[0mposition\u001b[0m \u001b[0;34m=\u001b[0m \u001b[0mavailable_positions\u001b[0m\u001b[0;34m.\u001b[0m\u001b[0mpop\u001b[0m\u001b[0;34m(\u001b[0m\u001b[0;34m)\u001b[0m\u001b[0;34m\u001b[0m\u001b[0;34m\u001b[0m\u001b[0m\n\u001b[0;32m---> 23\u001b[0;31m         \u001b[0mname\u001b[0m\u001b[0;34m,\u001b[0m \u001b[0mpos\u001b[0m \u001b[0;34m=\u001b[0m \u001b[0;34m[\u001b[0m\u001b[0;34m(\u001b[0m\u001b[0mname\u001b[0m\u001b[0;34m,\u001b[0m \u001b[0mposition\u001b[0m\u001b[0;34m)\u001b[0m \u001b[0;32mfor\u001b[0m \u001b[0mname\u001b[0m\u001b[0;34m,\u001b[0m \u001b[0mp\u001b[0m \u001b[0;32min\u001b[0m \u001b[0mavailable_players\u001b[0m \u001b[0;32mif\u001b[0m \u001b[0mposition\u001b[0m\u001b[0;34m.\u001b[0m\u001b[0mstartswith\u001b[0m\u001b[0;34m(\u001b[0m\u001b[0mp\u001b[0m\u001b[0;34m)\u001b[0m\u001b[0;34m]\u001b[0m\u001b[0;34m[\u001b[0m\u001b[0;36m0\u001b[0m\u001b[0;34m]\u001b[0m\u001b[0;34m\u001b[0m\u001b[0;34m\u001b[0m\u001b[0m\n\u001b[0m\u001b[1;32m     24\u001b[0m \u001b[0;34m\u001b[0m\u001b[0m\n\u001b[1;32m     25\u001b[0m         \u001b[0mroster\u001b[0m\u001b[0;34m[\u001b[0m\u001b[0mname\u001b[0m\u001b[0;34m]\u001b[0m \u001b[0;34m=\u001b[0m \u001b[0mpos\u001b[0m\u001b[0;34m\u001b[0m\u001b[0;34m\u001b[0m\u001b[0m\n",
      "\u001b[0;31mIndexError\u001b[0m: list index out of range"
     ]
    }
   ],
   "source": [
    "graph = club2graph('real_madrid', '4-3-3_4', graph)\n",
    "\n",
    "for team, formation in teams:\n",
    "    graph = club2graph(team, formation, graph)"
   ]
  },
  {
   "cell_type": "code",
   "execution_count": null,
   "metadata": {},
   "outputs": [],
   "source": []
  }
 ],
 "metadata": {
  "kernelspec": {
   "display_name": "Python 3",
   "language": "python",
   "name": "python3"
  },
  "language_info": {
   "codemirror_mode": {
    "name": "ipython",
    "version": 3
   },
   "file_extension": ".py",
   "mimetype": "text/x-python",
   "name": "python",
   "nbconvert_exporter": "python",
   "pygments_lexer": "ipython3",
   "version": "3.7.4"
  }
 },
 "nbformat": 4,
 "nbformat_minor": 4
}
