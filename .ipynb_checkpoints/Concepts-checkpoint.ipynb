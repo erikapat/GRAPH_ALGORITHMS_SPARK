{
 "cells": [
  {
   "cell_type": "code",
   "execution_count": null,
   "metadata": {},
   "outputs": [],
   "source": []
  },
  {
   "cell_type": "markdown",
   "metadata": {},
   "source": [
    "## **Types of Graphs**\n",
    "\n",
    "* **Homogeneous graph** without features (a homogeneous graph is one with only one type of node and one type of edge)\n",
    "\n",
    "* **Homogeneous graph** with node/edge features\n",
    "\n",
    "* **Homogeneous graph** with edge weights\n",
    "\n",
    "* **Directed graphs** (a graph is directed if edges have a “start” and “end” nodes, instead of just connecting two nodes)\n",
    "\n",
    "* **Heterogeneous graphs** (more than one node type and/or more than one edge type) with and without node/edge features or edge weights, this includes knowledge graphs. For example, an heterogeneous graph that has two different types of nodes, people and cities, that are connected by four different types of edges.\n",
    "\n",
    "* **Static graphs** do not change with time, while \n",
    "\n",
    "* **Dynamic graphs** changes its structure over time, adding and removing nodes and edges, or altering attributes and features (e.g. node attributes can be time series), or both."
   ]
  },
  {
   "cell_type": "markdown",
   "metadata": {},
   "source": [
    "## **Concepts related with Graphs**\n",
    "\n",
    "* **Row Stochastic:**\n",
    "The sum of each row in the matrix of weights is equal to one\n",
    "\n",
    "* **Path** a walk where each node is distinct\n",
    "\n",
    "* **Cycle** a walk where the nodes i_1 = i_k\n",
    "\n",
    "* **Geodesic** a shortest path between two nodes"
   ]
  },
  {
   "cell_type": "markdown",
   "metadata": {},
   "source": [
    "## **Graph machine learning problems**"
   ]
  },
  {
   "cell_type": "markdown",
   "metadata": {},
   "source": [
    "* **Node classification**, also known as **node attribute inference**, is the problem of inferring missing or incomplete attribute values of some nodes, given attribute values of other nodes in the network. The advantage over other machine learning methods is that node attribute inference gives you the ability to bring in context and neighbourhood information into your predictions. For example, in an online social network we might be interested in predicting the music preferences of a user’s friendship network\n",
    "\n",
    "* **Link prediction** , another important problem for network-structured datasets, is the problem of inferring missing or finding hidden relationships between entities. We may be interested in predicting missing relationships because some were hidden from us during data collection. Alternatively, we may be interested in predicting how the network structure will evolve in the future through insertion or deletion of links, given its snapshot at current time. Link prediction is an algorithm that we use every day, as it is typically the algorithm behind recommender systems. For example, in an online social network, we can use link prediction to suggest new friends to members. Another example is product recommendation for a content provider or an e-commerce website.\n",
    "\n",
    "* **Community detection** infers communities or clusters of nodes based on the graph’s structure, similarity of node attributes, or both. There are many applications for community detection, [1]. One example is segmentation of users of a social network into communities based on their hobbies, without having to explicitly ask each user if they are interested in that topic. Instead answers to topical questions, for example, ‘Do you like fiction or nonfiction?’, are answered by the algorithm using the data gathered from the people the individual frequently interacts with. Such segmentation can be used to deliver targeted ads based on common traits of community members.\n",
    "\n",
    "* **Graph classification** is the problem of discriminating between graphs of different classes. As an example, consider the representation of a chemical compound as a graph; in this case, nodes are atoms and edges are bonds between atoms. Given a set of chemical compounds each represented as a graph, we want to predict whether a compound is cancer-hindering or not. This is a graph classification problem, [2]."
   ]
  }
 ],
 "metadata": {
  "kernelspec": {
   "display_name": "Python 3",
   "language": "python",
   "name": "python3"
  },
  "language_info": {
   "codemirror_mode": {
    "name": "ipython",
    "version": 3
   },
   "file_extension": ".py",
   "mimetype": "text/x-python",
   "name": "python",
   "nbconvert_exporter": "python",
   "pygments_lexer": "ipython3",
   "version": "3.8.3"
  }
 },
 "nbformat": 4,
 "nbformat_minor": 4
}
