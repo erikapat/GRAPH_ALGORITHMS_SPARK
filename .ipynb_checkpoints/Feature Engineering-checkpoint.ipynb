{
 "cells": [
  {
   "cell_type": "markdown",
   "metadata": {},
   "source": [
    "### Graph Algorithms used for feature engineering"
   ]
  },
  {
   "cell_type": "markdown",
   "metadata": {},
   "source": [
    "* **Link prediction**: Estimates the likelihood of nodes forming a future relationship\n",
    "* **Preferential Attachment** measure the closeness of nodes based shared neighboors\n",
    "* **Common Neighboors:** measure the number of possible neighboors (triadic closure)\n",
    "* **Community detection:** detects group clustering of partition options\n",
    "\n",
    "* **Triangle counting** and **clustering coefficients** measure the density of connections around nodes.\n",
    "\n",
    "* **Louvain Modularity** identifies interacting communities and hierarchies"
   ]
  },
  {
   "cell_type": "markdown",
   "metadata": {},
   "source": [
    "Examples:\n",
    "\n",
    "- How classify a pair: predicting either linked or not linked"
   ]
  },
  {
   "cell_type": "markdown",
   "metadata": {},
   "source": [
    "Check this examples:\n",
    "    \n",
    "https://github.com/AliciaFrame/Public-Python-Notebooks"
   ]
  },
  {
   "cell_type": "markdown",
   "metadata": {},
   "source": [
    "http://bigdatafinance.eu/wp/wp-content/uploads/2017/07/Industrial-Applications-of-Network-Theory.pdf\n",
    "\n",
    "https://papers.ssrn.com/sol3/papers.cfm?abstract_id=2888783"
   ]
  },
  {
   "cell_type": "code",
   "execution_count": null,
   "metadata": {},
   "outputs": [],
   "source": []
  }
 ],
 "metadata": {
  "kernelspec": {
   "display_name": "Python 3",
   "language": "python",
   "name": "python3"
  },
  "language_info": {
   "codemirror_mode": {
    "name": "ipython",
    "version": 3
   },
   "file_extension": ".py",
   "mimetype": "text/x-python",
   "name": "python",
   "nbconvert_exporter": "python",
   "pygments_lexer": "ipython3",
   "version": "3.7.4"
  }
 },
 "nbformat": 4,
 "nbformat_minor": 4
}
