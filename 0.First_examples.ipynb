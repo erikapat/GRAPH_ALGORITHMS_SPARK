{
 "cells": [
  {
   "cell_type": "markdown",
   "metadata": {},
   "source": [
    "## **Graph algorithms**"
   ]
  },
  {
   "cell_type": "code",
   "execution_count": 2,
   "metadata": {},
   "outputs": [
    {
     "name": "stdout",
     "output_type": "stream",
     "text": [
      "Collecting graphframes\n",
      "  Downloading https://files.pythonhosted.org/packages/0b/27/c7c7e1ced2fe9a905f865dd91faaec2ac8a8e313f511678c8ec92a41a153/graphframes-0.6-py2.py3-none-any.whl\n",
      "Requirement already satisfied: numpy in /Users/erikapat/anaconda3/lib/python3.7/site-packages (from graphframes) (1.17.4)\n",
      "Requirement already satisfied: nose in /Users/erikapat/anaconda3/lib/python3.7/site-packages (from graphframes) (1.3.7)\n",
      "Installing collected packages: graphframes\n",
      "Successfully installed graphframes-0.6\n"
     ]
    }
   ],
   "source": [
    "!pip install graphframes"
   ]
  },
  {
   "cell_type": "code",
   "execution_count": 2,
   "metadata": {},
   "outputs": [],
   "source": [
    "from pyspark.sql.types import * \n",
    "from graphframes import *"
   ]
  },
  {
   "cell_type": "code",
   "execution_count": 3,
   "metadata": {},
   "outputs": [
    {
     "ename": "SyntaxError",
     "evalue": "invalid syntax (<ipython-input-3-7a075ea09e17>, line 9)",
     "output_type": "error",
     "traceback": [
      "\u001b[0;36m  File \u001b[0;32m\"<ipython-input-3-7a075ea09e17>\"\u001b[0;36m, line \u001b[0;32m9\u001b[0m\n\u001b[0;31m    rels = spark.read.csv(\"data/transport-relationships.csv\", header=True) reversed_rels = (rels.withColumn(\"newSrc\", rels.dst)\u001b[0m\n\u001b[0m                                                                                       ^\u001b[0m\n\u001b[0;31mSyntaxError\u001b[0m\u001b[0;31m:\u001b[0m invalid syntax\n"
     ]
    }
   ],
   "source": [
    "def create_transport_graph(): node_fields = [\n",
    "            StructField(\"id\", StringType(), True),\n",
    "            StructField(\"latitude\", FloatType(), True),\n",
    "            StructField(\"longitude\", FloatType(), True),\n",
    "            StructField(\"population\", IntegerType(), True)\n",
    "]\n",
    "nodes = spark.read.csv(\"data/transport-nodes.csv\", header=True,\n",
    "schema=StructType(node_fields))\n",
    "rels = spark.read.csv(\"data/transport-relationships.csv\", header=True) reversed_rels = (rels.withColumn(\"newSrc\", rels.dst)\n",
    ".withColumn(\"newDst\", rels.src)\n",
    ".drop(\"dst\", \"src\") .withColumnRenamed(\"newSrc\", \"src\") .withColumnRenamed(\"newDst\", \"dst\") .select(\"src\", \"dst\", \"relationship\", \"cost\"))\n",
    "relationships = rels.union(reversed_rels) return GraphFrame(nodes, relationships)"
   ]
  },
  {
   "cell_type": "code",
   "execution_count": null,
   "metadata": {},
   "outputs": [],
   "source": []
  }
 ],
 "metadata": {
  "kernelspec": {
   "display_name": "Python 3",
   "language": "python",
   "name": "python3"
  },
  "language_info": {
   "codemirror_mode": {
    "name": "ipython",
    "version": 3
   },
   "file_extension": ".py",
   "mimetype": "text/x-python",
   "name": "python",
   "nbconvert_exporter": "python",
   "pygments_lexer": "ipython3",
   "version": "3.7.4"
  }
 },
 "nbformat": 4,
 "nbformat_minor": 4
}
